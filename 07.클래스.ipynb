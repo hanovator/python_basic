{
 "cells": [
  {
   "cell_type": "code",
   "execution_count": 10,
   "metadata": {},
   "outputs": [],
   "source": [
    "class Person:\n",
    "    # Properties(멤버변수)\n",
    "    nation=\"한국\"\n",
    "    name=str()\n",
    "    age=int()\n",
    "    height=float()\n",
    "    weight=float()\n",
    "    # method\n",
    "    def display(self): # 인스턴스의 시작번지값을 가리키는 변수\n",
    "        print(\"국적:\",self.nation, end=\" \") # 줄바꿈을 하지 않음\n",
    "        print(\", 이름:\",self.name, end=\" \")\n",
    "        print(\", 나이:\",self.age, end=\" \")\n",
    "        print(\", 신장:\",self.height, end=\" \")\n",
    "        print(\", 체중:\",self.weight, end=\" \")"
   ]
  },
  {
   "cell_type": "code",
   "execution_count": 4,
   "metadata": {},
   "outputs": [
    {
     "name": "stdout",
     "output_type": "stream",
     "text": [
      "<class 'type'>\n",
      "['__class__', '__delattr__', '__dict__', '__dir__', '__doc__', '__eq__', '__format__', '__ge__', '__getattribute__', '__gt__', '__hash__', '__init__', '__init_subclass__', '__le__', '__lt__', '__module__', '__ne__', '__new__', '__reduce__', '__reduce_ex__', '__repr__', '__setattr__', '__sizeof__', '__str__', '__subclasshook__', '__weakref__', 'age', 'display', 'height', 'name', 'nation', 'weight']\n"
     ]
    }
   ],
   "source": [
    "# Person 클래스의 변수, method 목록 확인\n",
    "print(type(Person))\n",
    "print(dir(Person))"
   ]
  },
  {
   "cell_type": "code",
   "execution_count": 11,
   "metadata": {},
   "outputs": [
    {
     "name": "stdout",
     "output_type": "stream",
     "text": [
      "국적: 한국 , 이름:  , 나이: 0 , 신장: 0.0 , 체중: 0.0 "
     ]
    }
   ],
   "source": [
    "# 참조변수=클래스이름()\n",
    "p1=Person()\n",
    "p1.display()"
   ]
  },
  {
   "cell_type": "code",
   "execution_count": 13,
   "metadata": {},
   "outputs": [
    {
     "name": "stdout",
     "output_type": "stream",
     "text": [
      "국적: 한국 , 이름: 김철수 , 나이: 20 , 신장: 170.5 , 체중: 70.5 "
     ]
    }
   ],
   "source": [
    "p2=Person() #새로운 인스턴스 생성 \n",
    "# p2가 가리키는 name 변수의 값 변경\n",
    "p2.name=\"김철수\"\n",
    "p2.age=20\n",
    "p2.height=170.5\n",
    "p2.weight=70.5\n",
    "p2.display()"
   ]
  },
  {
   "cell_type": "code",
   "execution_count": 21,
   "metadata": {},
   "outputs": [
    {
     "name": "stdout",
     "output_type": "stream",
     "text": [
      "국적: 중국 , 이름:  , 나이: 0 , 신장: 0.0 , 체중: 0.0 \n",
      "국적: 태국 , 이름:  , 나이: 0 , 신장: 0.0 , 체중: 0.0 "
     ]
    }
   ],
   "source": [
    "p3=Person()\n",
    "p4=Person()\n",
    "#인스턴스 변수 : 인스턴스마다 다른 값을 가짐\n",
    "p3.nation=\"중국\"\n",
    "p3.display()\n",
    "print()\n",
    "p4.nation=\"태국\"\n",
    "p4.display()"
   ]
  },
  {
   "cell_type": "code",
   "execution_count": 23,
   "metadata": {},
   "outputs": [
    {
     "name": "stdout",
     "output_type": "stream",
     "text": [
      "국적: 미국 , 이름:  , 나이: 0 , 신장: 0.0 , 체중: 0.0 \n",
      "국적: 미국 , 이름:  , 나이: 0 , 신장: 0.0 , 체중: 0.0 "
     ]
    }
   ],
   "source": [
    "p5=Person()\n",
    "p6=Person()\n",
    "#클래스이름으로 접근하는 변수 => 클래스변수(static)\n",
    "#클래스 변수는 같은 값을 가짐\n",
    "Person.nation=\"미국\"\n",
    "p5.display()\n",
    "print()\n",
    "p6.display()"
   ]
  },
  {
   "cell_type": "code",
   "execution_count": 42,
   "metadata": {},
   "outputs": [],
   "source": [
    "class Foo:\n",
    "    def func1(self):\n",
    "        print(\"함수1\")\n",
    "    def func2(self):\n",
    "        print(\"주소값:\",id(self))\n",
    "        print(\"함수2\")\n",
    "    def func3():\n",
    "        print(\"함수3\")"
   ]
  },
  {
   "cell_type": "code",
   "execution_count": 44,
   "metadata": {},
   "outputs": [
    {
     "name": "stdout",
     "output_type": "stream",
     "text": [
      "함수1\n",
      "f의 주소: 92149072\n",
      "주소값: 92149072\n",
      "함수2\n",
      "함수3\n",
      "None\n"
     ]
    }
   ],
   "source": [
    "f=Foo() #클래스의 인스턴스 생성\n",
    "f.func1() #입력매개변수가 없어도 self를 표시해야 함\n",
    "print(\"f의 주소:\",id(f)) # f참조변수가 가리키는 주소값\n",
    "f.func2() \n",
    "#f.func3() 에러\n",
    "#print(Foo.func2())\n",
    "print(Foo.func3()) #클래스 이름으로 호출할 때는 self 생략"
   ]
  },
  {
   "cell_type": "code",
   "execution_count": 45,
   "metadata": {},
   "outputs": [],
   "source": [
    "class Person2:\n",
    "    #생성자, 중복생성자는 허용되지 않음\n",
    "    def __init__(self,name=None,age=None,height=None,weight=None):\n",
    "        self.name=name\n",
    "        self.age=age\n",
    "        self.height=height\n",
    "        self.weight=weight\n",
    "    def display(self):\n",
    "        print(\"이름:\",self.name, end=\" \")\n",
    "        print(\",나이:\",self.age, end=\" \")\n",
    "        print(\",신장:\",self.height, end=\" \")\n",
    "        print(\",체중:\",self.weight, end=\" \")        \n",
    "        print()"
   ]
  },
  {
   "cell_type": "code",
   "execution_count": 46,
   "metadata": {},
   "outputs": [
    {
     "name": "stdout",
     "output_type": "stream",
     "text": [
      "이름: None ,나이: None ,신장: None ,체중: None \n"
     ]
    }
   ],
   "source": [
    "p=Person2()\n",
    "p.display()"
   ]
  },
  {
   "cell_type": "code",
   "execution_count": 47,
   "metadata": {},
   "outputs": [
    {
     "name": "stdout",
     "output_type": "stream",
     "text": [
      "이름: 김철수 ,나이: 20 ,신장: None ,체중: None \n"
     ]
    }
   ],
   "source": [
    "p2=Person2(\"김철수\",20)\n",
    "p2.display()"
   ]
  },
  {
   "cell_type": "code",
   "execution_count": 19,
   "metadata": {},
   "outputs": [],
   "source": [
    "class Calculator:\n",
    "#생성자(인스턴스 생성=>자동 호출)  \n",
    "    def __init__(self,first=0,second=0): \n",
    "        #print(\"생성자 호출...\")\n",
    "        self.first=first\n",
    "        self.second=second\n",
    "    def __del__(self): #소멸자(인스턴스 소멸=>자동 호출)\n",
    "        print(\"소멸자 호출...\")\n",
    "    def setData(self, first, second):\n",
    "        self.first=first\n",
    "        self.second=second\n",
    "    def sum(self):\n",
    "        result=self.first+self.second\n",
    "        return result\n",
    "    def mul(self):\n",
    "        result = self.first * self.second\n",
    "        return result\n",
    "    def sub(self):\n",
    "        result = self.first - self.second\n",
    "        return result\n",
    "    def div(self):\n",
    "        result = self.first / self.second\n",
    "        return result"
   ]
  },
  {
   "cell_type": "code",
   "execution_count": 20,
   "metadata": {},
   "outputs": [
    {
     "name": "stdout",
     "output_type": "stream",
     "text": [
      "소멸자 호출...\n",
      "0\n",
      "0\n"
     ]
    }
   ],
   "source": [
    "# Calculator 클래스의 인스턴스 생성\n",
    "# 참조변수 a가 인스턴스의 시작번지값을 가리킴\n",
    "a = Calculator()  #생성자가 호출됨\n",
    "print(a.first)\n",
    "print(a.second)"
   ]
  },
  {
   "cell_type": "code",
   "execution_count": 21,
   "metadata": {},
   "outputs": [
    {
     "name": "stdout",
     "output_type": "stream",
     "text": [
      "소멸자 호출...\n",
      "100\n",
      "0\n"
     ]
    }
   ],
   "source": [
    "b=Calculator(100)\n",
    "print(b.first)\n",
    "print(b.second)"
   ]
  },
  {
   "cell_type": "code",
   "execution_count": 22,
   "metadata": {},
   "outputs": [
    {
     "name": "stdout",
     "output_type": "stream",
     "text": [
      "소멸자 호출...\n",
      "100\n",
      "200\n"
     ]
    }
   ],
   "source": [
    "c=Calculator(100,200)\n",
    "print(c.first)\n",
    "print(c.second)"
   ]
  },
  {
   "cell_type": "code",
   "execution_count": 23,
   "metadata": {},
   "outputs": [],
   "source": [
    "# class 자식클래스(부모클래스)\n",
    "# 다중 상속 가능\n",
    "class Calc2(Calculator):\n",
    "    def pow(self):\n",
    "        result = self.first ** self.second\n",
    "        return result"
   ]
  },
  {
   "cell_type": "code",
   "execution_count": 24,
   "metadata": {},
   "outputs": [
    {
     "name": "stdout",
     "output_type": "stream",
     "text": [
      "소멸자 호출...\n"
     ]
    }
   ],
   "source": [
    "a=Calc2(2,4)"
   ]
  },
  {
   "cell_type": "code",
   "execution_count": 25,
   "metadata": {},
   "outputs": [
    {
     "name": "stdout",
     "output_type": "stream",
     "text": [
      "6\n",
      "8\n",
      "-2\n",
      "0.5\n",
      "16\n"
     ]
    }
   ],
   "source": [
    "#부모클래스의 method\n",
    "print(a.sum())\n",
    "print(a.mul())\n",
    "print(a.sub())\n",
    "print(a.div())\n",
    "#자식클래스의 method\n",
    "print(a.pow())"
   ]
  },
  {
   "cell_type": "code",
   "execution_count": 26,
   "metadata": {},
   "outputs": [
    {
     "name": "stdout",
     "output_type": "stream",
     "text": [
      "소멸자 호출...\n"
     ]
    },
    {
     "ename": "ZeroDivisionError",
     "evalue": "division by zero",
     "output_type": "error",
     "traceback": [
      "\u001b[1;31m---------------------------------------------------------------------------\u001b[0m",
      "\u001b[1;31mZeroDivisionError\u001b[0m                         Traceback (most recent call last)",
      "\u001b[1;32m<ipython-input-26-9685229d720c>\u001b[0m in \u001b[0;36m<module>\u001b[1;34m()\u001b[0m\n\u001b[0;32m      1\u001b[0m \u001b[0mb\u001b[0m\u001b[1;33m=\u001b[0m\u001b[0mCalculator\u001b[0m\u001b[1;33m(\u001b[0m\u001b[1;36m4\u001b[0m\u001b[1;33m,\u001b[0m\u001b[1;36m0\u001b[0m\u001b[1;33m)\u001b[0m\u001b[1;33m\u001b[0m\u001b[0m\n\u001b[1;32m----> 2\u001b[1;33m \u001b[0mprint\u001b[0m\u001b[1;33m(\u001b[0m\u001b[0mb\u001b[0m\u001b[1;33m.\u001b[0m\u001b[0mdiv\u001b[0m\u001b[1;33m(\u001b[0m\u001b[1;33m)\u001b[0m\u001b[1;33m)\u001b[0m\u001b[1;33m\u001b[0m\u001b[0m\n\u001b[0m",
      "\u001b[1;32m<ipython-input-19-04b35a920c58>\u001b[0m in \u001b[0;36mdiv\u001b[1;34m(self)\u001b[0m\n\u001b[0;32m     20\u001b[0m         \u001b[1;32mreturn\u001b[0m \u001b[0mresult\u001b[0m\u001b[1;33m\u001b[0m\u001b[0m\n\u001b[0;32m     21\u001b[0m     \u001b[1;32mdef\u001b[0m \u001b[0mdiv\u001b[0m\u001b[1;33m(\u001b[0m\u001b[0mself\u001b[0m\u001b[1;33m)\u001b[0m\u001b[1;33m:\u001b[0m\u001b[1;33m\u001b[0m\u001b[0m\n\u001b[1;32m---> 22\u001b[1;33m         \u001b[0mresult\u001b[0m \u001b[1;33m=\u001b[0m \u001b[0mself\u001b[0m\u001b[1;33m.\u001b[0m\u001b[0mfirst\u001b[0m \u001b[1;33m/\u001b[0m \u001b[0mself\u001b[0m\u001b[1;33m.\u001b[0m\u001b[0msecond\u001b[0m\u001b[1;33m\u001b[0m\u001b[0m\n\u001b[0m\u001b[0;32m     23\u001b[0m         \u001b[1;32mreturn\u001b[0m \u001b[0mresult\u001b[0m\u001b[1;33m\u001b[0m\u001b[0m\n",
      "\u001b[1;31mZeroDivisionError\u001b[0m: division by zero"
     ]
    }
   ],
   "source": [
    "b=Calculator(4,0)\n",
    "# 4 / 0 분모에 0이 입력되면 에러 발생\n",
    "print(b.div())"
   ]
  },
  {
   "cell_type": "code",
   "execution_count": 29,
   "metadata": {},
   "outputs": [],
   "source": [
    "class Calc3(Calculator):\n",
    "    # method overriding(오버라이딩) : method 재정의\n",
    "    def div(self):\n",
    "        if self.second == 0:\n",
    "            print(\"0으로 나눌 수 없습니다.\")\n",
    "            return 0\n",
    "        else:\n",
    "            return self.first / self.second        "
   ]
  },
  {
   "cell_type": "code",
   "execution_count": 30,
   "metadata": {},
   "outputs": [
    {
     "name": "stdout",
     "output_type": "stream",
     "text": [
      "소멸자 호출...\n",
      "0으로 나눌 수 없습니다.\n",
      "0\n"
     ]
    }
   ],
   "source": [
    "c=Calc3(2,0)\n",
    "print(c.div())"
   ]
  },
  {
   "cell_type": "code",
   "execution_count": 31,
   "metadata": {},
   "outputs": [],
   "source": [
    "class Phone:\n",
    "    def call(self):\n",
    "        print(\"통화기능\")\n",
    "class Camera:\n",
    "    def picture(self):\n",
    "        print(\"촬영기능\")\n",
    "class CameraPhone(Phone,Camera): #다중 상속 가능\n",
    "    def pictureCall(self):\n",
    "        print(\"영상통화기능\")"
   ]
  },
  {
   "cell_type": "code",
   "execution_count": 32,
   "metadata": {},
   "outputs": [
    {
     "name": "stdout",
     "output_type": "stream",
     "text": [
      "통화기능\n",
      "촬영기능\n",
      "영상통화기능\n"
     ]
    }
   ],
   "source": [
    "p=CameraPhone()\n",
    "p.call()\n",
    "p.picture()\n",
    "p.pictureCall()"
   ]
  },
  {
   "cell_type": "code",
   "execution_count": 33,
   "metadata": {},
   "outputs": [],
   "source": [
    "class BookReader:\n",
    "    __country=\"Korea\" #외부에서 직접 값을 읽을 수 없는 변수\n",
    "    def updateCountry(self, country):\n",
    "        self.__country=country\n",
    "    def getCountry(self):\n",
    "        return self.__country"
   ]
  },
  {
   "cell_type": "code",
   "execution_count": 35,
   "metadata": {},
   "outputs": [
    {
     "name": "stdout",
     "output_type": "stream",
     "text": [
      "['_BookReader__country', '__class__', '__delattr__', '__dict__', '__dir__', '__doc__', '__eq__', '__format__', '__ge__', '__getattribute__', '__gt__', '__hash__', '__init__', '__init_subclass__', '__le__', '__lt__', '__module__', '__ne__', '__new__', '__reduce__', '__reduce_ex__', '__repr__', '__setattr__', '__sizeof__', '__str__', '__subclasshook__', '__weakref__', 'getCountry', 'updateCountry']\n"
     ]
    }
   ],
   "source": [
    "# _BookReader__country\n",
    "print(dir(BookReader))"
   ]
  },
  {
   "cell_type": "code",
   "execution_count": 38,
   "metadata": {},
   "outputs": [
    {
     "name": "stdout",
     "output_type": "stream",
     "text": [
      "Korea\n"
     ]
    }
   ],
   "source": [
    "br=BookReader()\n",
    "#print(br.__country) #직접 읽을 수 없음\n",
    "print(br.getCountry())"
   ]
  },
  {
   "cell_type": "code",
   "execution_count": 41,
   "metadata": {},
   "outputs": [
    {
     "name": "stdout",
     "output_type": "stream",
     "text": [
      "USA\n"
     ]
    }
   ],
   "source": [
    "# 직접 변경할 수 없음\n",
    "#br.__country = \"USA\"\n",
    "br.updateCountry(\"USA\") #method를 통해 값을 변경할 수 있음\n",
    "print(br.getCountry())"
   ]
  },
  {
   "cell_type": "code",
   "execution_count": 42,
   "metadata": {},
   "outputs": [],
   "source": [
    "class Phone:\n",
    "    def call(self):\n",
    "        print(\"전화 기능\")\n",
    "class FolderPhone(Phone):\n",
    "    def call(self):\n",
    "        print(\"통화 기능\")\n",
    "class CameraPhone(Phone):\n",
    "    def call(self):\n",
    "        print(\"통화+카메라 기능\")\n",
    "class SmartPhone(Phone):\n",
    "    def call(self):\n",
    "        print(\"통화+카메라+인터넷 기능\")    "
   ]
  },
  {
   "cell_type": "code",
   "execution_count": 43,
   "metadata": {},
   "outputs": [
    {
     "name": "stdout",
     "output_type": "stream",
     "text": [
      "전화 기능\n"
     ]
    }
   ],
   "source": [
    "p=Phone()\n",
    "p.call()"
   ]
  },
  {
   "cell_type": "code",
   "execution_count": 44,
   "metadata": {},
   "outputs": [
    {
     "name": "stdout",
     "output_type": "stream",
     "text": [
      "통화 기능\n"
     ]
    }
   ],
   "source": [
    "p=FolderPhone()\n",
    "p.call()"
   ]
  },
  {
   "cell_type": "code",
   "execution_count": 45,
   "metadata": {},
   "outputs": [
    {
     "name": "stdout",
     "output_type": "stream",
     "text": [
      "통화+카메라 기능\n"
     ]
    }
   ],
   "source": [
    "p=CameraPhone()\n",
    "p.call()"
   ]
  },
  {
   "cell_type": "code",
   "execution_count": 46,
   "metadata": {},
   "outputs": [
    {
     "name": "stdout",
     "output_type": "stream",
     "text": [
      "통화+카메라+인터넷 기능\n"
     ]
    }
   ],
   "source": [
    "p=SmartPhone()\n",
    "p.call()"
   ]
  },
  {
   "cell_type": "code",
   "execution_count": null,
   "metadata": {},
   "outputs": [],
   "source": []
  },
  {
   "cell_type": "code",
   "execution_count": null,
   "metadata": {},
   "outputs": [],
   "source": []
  }
 ],
 "metadata": {
  "kernelspec": {
   "display_name": "Python 3",
   "language": "python",
   "name": "python3"
  },
  "language_info": {
   "codemirror_mode": {
    "name": "ipython",
    "version": 3
   },
   "file_extension": ".py",
   "mimetype": "text/x-python",
   "name": "python",
   "nbconvert_exporter": "python",
   "pygments_lexer": "ipython3",
   "version": "3.6.4"
  }
 },
 "nbformat": 4,
 "nbformat_minor": 2
}
