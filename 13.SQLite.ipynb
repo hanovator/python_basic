{
 "cells": [
  {
   "cell_type": "code",
   "execution_count": 1,
   "metadata": {},
   "outputs": [
    {
     "name": "stdout",
     "output_type": "stream",
     "text": [
      "2.6.0\n",
      "3.27.2\n"
     ]
    }
   ],
   "source": [
    "import sqlite3\n",
    "#파이썬 sqlite3 라이브러리의 버전\n",
    "print(sqlite3.version)\n",
    "#sqlite의 버전\n",
    "print(sqlite3.sqlite_version)"
   ]
  },
  {
   "cell_type": "code",
   "execution_count": 3,
   "metadata": {},
   "outputs": [],
   "source": [
    "def create_table():\n",
    "    #my_books.db에 접속(없으면 생성 후 접속)\n",
    "    conn=sqlite3.connect(\"D:\\learn\\python\\db\\my_books.db\")\n",
    "    #커서 오픈(sql을 실행하는 객체)\n",
    "    cursor=conn.cursor()\n",
    "    #테이블이 존재하지 않으면 생성\n",
    "    cursor.execute(\"\"\"\n",
    "        create table if not exists books (\n",
    "            title text,\n",
    "            published_date text,\n",
    "            publisher text,\n",
    "            pages integer,\n",
    "            recommend integer\n",
    "        )\n",
    "    \"\"\")\n",
    "    conn.commit() #db에 반영\n",
    "    conn.close() #db 연결 종료 파일이기 때문에 꼭 종료해줘야 한다.\n",
    "\n",
    "create_table()"
   ]
  },
  {
   "cell_type": "code",
   "execution_count": 4,
   "metadata": {},
   "outputs": [],
   "source": [
    "def insert_books():\n",
    "    conn=sqlite3.connect(\"D:\\learn\\python\\db\\my_books.db\") #db 접속\n",
    "    cursor=conn.cursor() #커서 생성(sql 실행 객체)\n",
    "    #inline sql query로 입력\n",
    "    cursor.execute(\"insert into books values \\\n",
    "('java','2018-02-28','길벗',500,10)\")\n",
    "    # 매개변수를 이용한 쿼리에 튜플 데이터로 입력\n",
    "    sql=\"insert into books values (?,?,?,?,?)\"\n",
    "    cursor.execute(sql, (\"Python\",\"2018-03-04\",\"한빛\",584,20))\n",
    "    # 리스트를 이용한 대량 insert\n",
    "    items=[\n",
    "        (\"빅데이터\",\"2014-07-02\",\"삼성\",296,11),\n",
    "        (\"안드로이드\",\"2010-07-02\",\"영진\",596,21),\n",
    "        (\"Spring\",\"2013-07-02\",\"에이콘\",396,31)\n",
    "    ]\n",
    "    cursor.executemany(sql, items)\n",
    "    conn.commit() #db에 반영\n",
    "    conn.close() #db 접속 종료\n",
    "    \n",
    "insert_books()    \n",
    "    "
   ]
  },
  {
   "cell_type": "code",
   "execution_count": 5,
   "metadata": {},
   "outputs": [
    {
     "name": "stdout",
     "output_type": "stream",
     "text": [
      "('자바', '2019-03-01', '길벗', 500, 10)\n",
      "('java', '2018-02-28', '길벗', 500, 10)\n",
      "('Python', '2018-03-04', '한빛', 584, 20)\n",
      "('빅데이터', '2014-07-02', '삼성', 296, 11)\n",
      "('안드로이드', '2010-07-02', '영진', 596, 21)\n",
      "('Spring', '2013-07-02', '에이콘', 396, 31)\n"
     ]
    }
   ],
   "source": [
    "import sqlite3 \n",
    "def all_books():\n",
    "    conn=sqlite3.connect(\"D:\\learn\\python\\db\\my_books.db\") #db 오픈\n",
    "    cursor=conn.cursor() #커서 생성\n",
    "    cursor.execute(\"select * from books\") #sql 실행\n",
    "    books=cursor.fetchall() #모든 레코드를 리스트로 리턴\n",
    "    #print(books)\n",
    "    for book in books:\n",
    "        print(book)\n",
    "    conn.close() # db 접속 종료\n",
    "\n",
    "all_books()    "
   ]
  },
  {
   "cell_type": "code",
   "execution_count": 7,
   "metadata": {},
   "outputs": [
    {
     "name": "stdout",
     "output_type": "stream",
     "text": [
      "('자바', '2019-03-01', '길벗', 500, 10)\n",
      "('java', '2018-02-28', '길벗', 500, 10)\n",
      "('Python', '2018-03-04', '한빛', 584, 20)\n"
     ]
    }
   ],
   "source": [
    "#일부 레코드 조회\n",
    "def some_books(number):\n",
    "    conn=sqlite3.connect(\"D:\\learn\\python\\db\\my_books.db\")\n",
    "    cursor=conn.cursor()\n",
    "    cursor.execute(\"select * from books\")\n",
    "    #지정된 숫자만큼의 레코드를 리스트로 리턴\n",
    "    books = cursor.fetchmany(number)\n",
    "    for book in books:\n",
    "        print(book)\n",
    "    conn.close()\n",
    "    \n",
    "some_books(3)    \n"
   ]
  },
  {
   "cell_type": "code",
   "execution_count": 11,
   "metadata": {},
   "outputs": [
    {
     "name": "stdout",
     "output_type": "stream",
     "text": [
      "('빅데이터', '2014-07-02', '삼성', 296, 11)\n"
     ]
    }
   ],
   "source": [
    "def one_book():\n",
    "    conn=sqlite3.connect(\"D:\\learn\\python\\db\\my_books.db\")\n",
    "    cursor = conn.cursor()\n",
    "    cursor.execute(\"select * from books where title='빅데이터' \")\n",
    "    #레코드 1개만 선택 => 튜플로 리턴\n",
    "    print(cursor.fetchone()) \n",
    "    conn.close()\n",
    "\n",
    "one_book()    "
   ]
  },
  {
   "cell_type": "code",
   "execution_count": 19,
   "metadata": {},
   "outputs": [
    {
     "name": "stdout",
     "output_type": "stream",
     "text": [
      "('java', '2018-02-28', '길벗', 500, 777)\n",
      "('Python', '2018-03-04', '한빛', 584, 20)\n",
      "('빅데이터', '2014-07-02', '삼성', 296, 11)\n",
      "('안드로이드', '2010-07-02', '영진', 596, 21)\n",
      "('Spring', '2013-07-02', '에이콘', 396, 31)\n"
     ]
    }
   ],
   "source": [
    "def update_books():\n",
    "    conn=sqlite3.connect(\"d:/data/db/my_books.db\")\n",
    "    cursor=conn.cursor()\n",
    "    sql = \"update books set recommend=? where title=?\"\n",
    "    # ? 위치에 튜플의 값이 대입됨 \n",
    "    cursor.execute(sql, (777, 'java'))\n",
    "    conn.commit()\n",
    "    conn.close()\n",
    "    \n",
    "update_books()\n",
    "all_books()"
   ]
  },
  {
   "cell_type": "code",
   "execution_count": 23,
   "metadata": {},
   "outputs": [
    {
     "name": "stdout",
     "output_type": "stream",
     "text": [
      "('java', '2018-02-28', '길벗', 500, 777)\n",
      "('Python', '2018-03-04', '한빛', 584, 20)\n",
      "('안드로이드', '2010-07-02', '영진', 596, 21)\n",
      "('Spring', '2013-07-02', '에이콘', 396, 31)\n"
     ]
    }
   ],
   "source": [
    "def delete_books():\n",
    "    conn=sqlite3.connect(\"d:/data/db/my_books.db\")\n",
    "    cursor=conn.cursor()\n",
    "    sql=\"delete from books where publisher=?\"\n",
    "    cursor.execute(sql, [\"삼성\"] )\n",
    "    conn.commit()\n",
    "    conn.close()\n",
    "    \n",
    "delete_books()\n",
    "all_books()"
   ]
  },
  {
   "cell_type": "code",
   "execution_count": 9,
   "metadata": {},
   "outputs": [],
   "source": [
    "import sqlite3\n",
    "conn=sqlite3.connect(\"D:\\learn\\python\\db\\sales.db\") #db 파일 오픈\n",
    "sql=\"\"\"\n",
    "create table if not exists sales (\n",
    "    customer varchar(20),\n",
    "    product varchar(50),\n",
    "    price float,\n",
    "    date date\n",
    ")\n",
    "\"\"\"\n",
    "conn.execute(sql) #테이블 생성\n",
    "# 리스트 => 테이블, 튜플 => 레코드\n",
    "data=[\n",
    "    (\"김철수\",\"배\",10000,\"2018-01-02\"),\n",
    "    (\"김민수\",\"사과\",20000,\"2018-02-02\"),\n",
    "    (\"김현수\",\"포도\",15000,\"2018-03-02\"),\n",
    "    (\"한민호\",\"자두\",30000,\"2018-04-02\"),    \n",
    "]\n",
    "statement=\"insert into sales values (?,?,?,?)\"\n",
    "conn.executemany(statement, data) #리스트를 한꺼번에 insert\n",
    "conn.commit();"
   ]
  },
  {
   "cell_type": "code",
   "execution_count": 32,
   "metadata": {},
   "outputs": [
    {
     "name": "stdout",
     "output_type": "stream",
     "text": [
      "레코드 갯수: 4\n",
      "[('김철수', '배', 10000.0, '2018-01-02'), ('김민수', '사과', 20000.0, '2018-02-02'), ('김현수', '포도', 15000.0, '2018-03-02'), ('한민호', '자두', 30000.0, '2018-04-02')]\n",
      "('김철수', '배', 10000.0, '2018-01-02')\n",
      "('김민수', '사과', 20000.0, '2018-02-02')\n",
      "('김현수', '포도', 15000.0, '2018-03-02')\n",
      "('한민호', '자두', 30000.0, '2018-04-02')\n",
      "rows:4\n"
     ]
    }
   ],
   "source": [
    "cursor = conn.execute(\"select count(*) from sales\")\n",
    "row=cursor.fetchone()\n",
    "print(\"레코드 갯수:\",row[0])\n",
    "\n",
    "cursor = conn.execute(\"select * from sales\")\n",
    "rows=cursor.fetchall() #모든 레코드를 리스트로 리턴\n",
    "print(rows)\n",
    "count=0\n",
    "for row in rows:\n",
    "    print(row)\n",
    "    count += 1 #카운트 증가 처리, ++은 안됨\n",
    "print(\"rows:{0}\".format(count))    "
   ]
  },
  {
   "cell_type": "code",
   "execution_count": 10,
   "metadata": {},
   "outputs": [
    {
     "name": "stdout",
     "output_type": "stream",
     "text": [
      "['A', '001-1001', '2341', '500000.0', '2014-01-20']\n",
      "['A', '001-1001', '2341', '500000.0', '2014-01-20']\n",
      "['A', '001-1001', '5467', '750000.0', '2014-01-20']\n",
      "['A', '001-1001', '5467', '750000.0', '2014-01-20']\n",
      "['B', '50-9501', '7009', '250000.0', '2018-01-30']\n",
      "['B', '50-9501', '7009', '250000.0', '2018-01-30']\n",
      "['B', '50-9505', '6650', '125000.0', '2017-02-03']\n",
      "['B', '50-9505', '6650', '125000.0', '2017-02-03']\n",
      "['C', '920-4803', '3321', '615000.0', '2017-02-03']\n",
      "['C', '920-4804', '3321', '615000.0', '2017-02-10']\n",
      "['C', '920-4805', '3321', '615000.0', '2017-02-17']\n",
      "['C', '920-4806', '3321', '615000.0', '2017-02-24']\n"
     ]
    }
   ],
   "source": [
    "import csv # csv 모듈 로딩\n",
    "import sqlite3\n",
    "input_file = \"D:\\learn\\python\\db\\input.csv\"\n",
    "\n",
    "conn=sqlite3.connect(\"D:\\learn\\python\\db\\suppliers.db\") #DB생성 및 오픈\n",
    "cursor=conn.cursor() # 커서 생성\n",
    "sql=\"\"\"\n",
    "create table if not exists suppliers (\n",
    "    supplier_name varchar(20),\n",
    "    invoice_number varchar(20),\n",
    "    part_number varchar(20),\n",
    "    cost float,\n",
    "    purchase_date date\n",
    ")\n",
    "\"\"\"\n",
    "cursor.execute(sql) # 테이블이 만들어짐\n",
    "#기존 레코드 삭제\n",
    "sql=\"delete from suppliers\"\n",
    "cursor.execute(sql)\n",
    "\n",
    "# csv.reader( 파일참조변수, delimiter(\"필드구분자\"))\n",
    "file_reader = csv.reader(open(input_file,\"r\"), delimiter=\",\")\n",
    "#print(file_reader)\n",
    "header = next(file_reader, None) #csv 파일의 첫 라인을 읽음\n",
    "#print(header)\n",
    "for row in file_reader: # csv 파일의 한 라인을 row 변수에 저장\n",
    "    data=[] #비어있는 리스트를 생성\n",
    "    for idx in range(len(header)): #필드 인덱스\n",
    "        data.append(row[idx]) #필드 추가\n",
    "    #print(data)\n",
    "    #레코드를 저장\n",
    "    cursor.execute(\"insert into suppliers values (?,?,?,?,?)\",data)\n",
    "conn.commit()\n",
    "#sql 실행\n",
    "output=cursor.execute(\"select * from suppliers\")\n",
    "rows=output.fetchall() #모든 레코드를 리스트로 리턴받음\n",
    "#print(rows)\n",
    "#print(len(row))\n",
    "#print(range(5))\n",
    "for row in rows: # 레코드 단위로 실행\n",
    "    output=[]\n",
    "    for column_index in range(len(row)):\n",
    "        output.append( str(row[column_index])) #리스트에 추가\n",
    "    print(output)"
   ]
  },
  {
   "cell_type": "code",
   "execution_count": 12,
   "metadata": {},
   "outputs": [
    {
     "name": "stdout",
     "output_type": "stream",
     "text": [
      "('김철수', '배', 98000.0, '2017-11-25')\n",
      "('김민수', '사과', 20000.0, '2018-02-02')\n",
      "('김현수', '포도', 15000.0, '2018-03-02')\n",
      "('한민호', '자두', 30000.0, '2018-04-02')\n"
     ]
    }
   ],
   "source": [
    "import sqlite3\n",
    "conn=sqlite3.connect(\"D:\\learn\\python\\db\\sales.db\")\n",
    "# ?에는 튜플의 값이 입력됨\n",
    "conn.execute(\"update sales set price=?, date=? where customer=?\",\\\n",
    "            (98000,\"2017-11-25\",\"김철수\") )\n",
    "conn.commit()\n",
    "cursor = conn.execute(\"select * from sales\")\n",
    "rows = cursor.fetchall() #모든 레코드를 리스트로 리턴받음\n",
    "#print(rows)\n",
    "for row in rows: #리스트의 각 요소(튜플)을 반복 처리\n",
    "    print(row)\n",
    "    output=[]\n",
    "    for idx in range(len(row)):\n",
    "        output.append(str(row[idx])) #빈 리스트에 추가\n",
    "    #print(output)\n",
    "    \n",
    "conn.close"
   ]
  },
  {
   "cell_type": "code",
   "execution_count": null,
   "metadata": {},
   "outputs": [],
   "source": []
  }
 ],
 "metadata": {
  "kernelspec": {
   "display_name": "Python 3",
   "language": "python",
   "name": "python3"
  },
  "language_info": {
   "codemirror_mode": {
    "name": "ipython",
    "version": 3
   },
   "file_extension": ".py",
   "mimetype": "text/x-python",
   "name": "python",
   "nbconvert_exporter": "python",
   "pygments_lexer": "ipython3",
   "version": "3.7.3"
  }
 },
 "nbformat": 4,
 "nbformat_minor": 2
}
