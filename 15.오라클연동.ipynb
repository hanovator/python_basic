{
 "cells": [
  {
   "cell_type": "code",
   "execution_count": 38,
   "metadata": {},
   "outputs": [],
   "source": [
    "#오라클 연동 모듈 로딩\n",
    "import cx_Oracle\n",
    "# 오라클 서버에 접속 : 아이디/비번@호스트:포트/서비스아이디\n",
    "conn=cx_Oracle.connect(\"spring/1234@localhost:1521/xe\")\n",
    "# 커서 객체 생성\n",
    "cursor=conn.cursor()\n",
    "# sql 작성\n",
    "sql=\"delete from product\"\n",
    "# sql 실행\n",
    "cursor.execute(sql)\n",
    "# db에 반영(insert,update,delete) \n",
    "conn.commit()"
   ]
  },
  {
   "cell_type": "code",
   "execution_count": 24,
   "metadata": {},
   "outputs": [
    {
     "name": "stdout",
     "output_type": "stream",
     "text": [
      "(1, '레몬', 1500, '레몬에 포함된 구연산은 피로회복에 좋습니다. 비타민 C도 풍부합니다.', 'lemon.jpg')\n",
      "(2, '오렌지', 2000, '비타민 C가 풍부합니다. 생과일 주스로 마시면 좋습니다.', 'orange.jpg')\n",
      "(3, '키위', 3000, '비타민 C가 매우 풍부합니다. 다이어트나 미용에 좋습니다.', 'kiwi.jpg')\n",
      "(4, '포도', 5000, '폴리페놀을 다량 함유하고 있어 항산화 작용을 합니다.', 'grape.jpg')\n",
      "(5, '딸기', 8000, '비타민 C나 플라보노이드를 다량 함유하고 있습니다.', 'strawberry.jpg')\n",
      "(6, '귤', 7000, '시네피린을 함유하고 있어 감기 예방에 좋다고 합니다.', 'tangerine.jpg')\n"
     ]
    }
   ],
   "source": [
    "items = [\n",
    "(1,'레몬',1500,\\\n",
    "'레몬에 포함된 구연산은 피로회복에 좋습니다. 비타민 C도 풍부합니다.','lemon.jpg'),\n",
    "(2,'오렌지',2000,\\\n",
    "'비타민 C가 풍부합니다. 생과일 주스로 마시면 좋습니다.','orange.jpg'),\n",
    "(3,'키위',3000,\\\n",
    "'비타민 C가 매우 풍부합니다. 다이어트나 미용에 좋습니다.','kiwi.jpg'),\n",
    "(4,'포도',5000,'폴리페놀을 다량 함유하고 있어 항산화 작용을 합니다.','grape.jpg'),\n",
    "(5,'딸기',8000,\\\n",
    "'비타민 C나 플라보노이드를 다량 함유하고 있습니다.','strawberry.jpg'),\n",
    "(6,'귤',7000,\\\n",
    "'시네피린을 함유하고 있어 감기 예방에 좋다고 합니다.','tangerine.jpg')\n",
    "]\n",
    "# for 튜플 in 리스트\n",
    "for row in items:\n",
    "    # :필드인덱스(1부터)\n",
    "    sql = \"insert into product values (:1, :2, :3, :4, :5)\"\n",
    "    # 튜플변수 row에 저장된 값들이 :1 ~ :5에 대입됨\n",
    "    print(row)\n",
    "    cursor.execute(sql, row)\n",
    "\n",
    "conn.commit()    #db에 반영"
   ]
  },
  {
   "cell_type": "code",
   "execution_count": 16,
   "metadata": {},
   "outputs": [
    {
     "name": "stdout",
     "output_type": "stream",
     "text": [
      "(6,)\n",
      "<class 'tuple'>\n",
      "상품갯수: 6\n"
     ]
    }
   ],
   "source": [
    "sql = \"select count(*) from product\" #sql 작성\n",
    "cursor.execute(sql) # sql 실행\n",
    "count=cursor.fetchone() # 결과셋에서 1개의 레코드를 튜플로 리턴받음\n",
    "print(count)\n",
    "print(type(count))\n",
    "print(\"상품갯수:\", count[0]) # 튜플의 첫번째 필드값 출력 "
   ]
  },
  {
   "cell_type": "code",
   "execution_count": 18,
   "metadata": {},
   "outputs": [
    {
     "name": "stdout",
     "output_type": "stream",
     "text": [
      "(1, '레몬', 1500, <cx_Oracle.LOB object at 0x0000000007DFA6C0>, 'lemon.jpg')\n",
      "레몬에 포함된 구연산은 피로회복에 좋습니다. 비타민 C도 풍부합니다.\n",
      "(2, '오렌지', 2000, <cx_Oracle.LOB object at 0x0000000007E04378>, 'orange.jpg')\n",
      "비타민 C가 풍부합니다. 생과일 주스로 마시면 좋습니다.\n",
      "(3, '키위', 3000, <cx_Oracle.LOB object at 0x0000000007DFA6C0>, 'kiwi.jpg')\n",
      "비타민 C가 매우 풍부합니다. 다이어트나 미용에 좋습니다.\n",
      "(4, '포도', 5000, <cx_Oracle.LOB object at 0x0000000007E04378>, 'grape.jpg')\n",
      "폴리페놀을 다량 함유하고 있어 항산화 작용을 합니다.\n",
      "(5, '딸기', 8000, <cx_Oracle.LOB object at 0x0000000007DFA6C0>, 'strawberry.jpg')\n",
      "비타민 C나 플라보노이드를 다량 함유하고 있습니다.\n",
      "(6, '귤', 7000, <cx_Oracle.LOB object at 0x0000000007E04378>, 'tangerine.jpg')\n",
      "시네피린을 함유하고 있어 감기 예방에 좋다고 합니다.\n"
     ]
    }
   ],
   "source": [
    "#전체 레코드 조회\n",
    "sql = \"select * from product\"\n",
    "cursor.execute(sql)\n",
    "# CLOB 필드의 내용을 읽기 위해서는 read()를 호출해야 함\n",
    "for row in cursor:    \n",
    "    print(row)\n",
    "    #CLOB 필드가 저장된 실제 주소를 참조하여 내용을 읽어옴\n",
    "    description=row[3].read()\n",
    "    print(description)"
   ]
  },
  {
   "cell_type": "code",
   "execution_count": 20,
   "metadata": {},
   "outputs": [],
   "source": [
    "#일부 레코드 삭제\n",
    "sql = \"delete from product where product_id=6\"\n",
    "cursor.execute(sql)\n",
    "conn.commit()"
   ]
  },
  {
   "cell_type": "code",
   "execution_count": 33,
   "metadata": {},
   "outputs": [],
   "source": [
    "#전체 레코드 삭제\n",
    "sql = \"delete from product\"\n",
    "cursor.execute(sql)\n",
    "conn.commit()"
   ]
  },
  {
   "cell_type": "code",
   "execution_count": 39,
   "metadata": {},
   "outputs": [],
   "source": [
    "# 레코드 추가 일괄 처리\n",
    "sql = \"insert into product values (:1,:2,:3,:4,:5)\"\n",
    "cursor.bindarraysize=len(items) # 일괄처리할 레코드 갯수 지정\n",
    "cursor.executemany(sql, items) # insert \n",
    "conn.commit() #db 반영"
   ]
  },
  {
   "cell_type": "code",
   "execution_count": 40,
   "metadata": {},
   "outputs": [
    {
     "name": "stdout",
     "output_type": "stream",
     "text": [
      "<class 'list'>\n",
      "[(1, '레몬', 1500, <cx_Oracle.LOB object at 0x0000000007E22EE0>, 'lemon.jpg'), (2, '오렌지', 2000, <cx_Oracle.LOB object at 0x000000000C47F788>, 'orange.jpg'), (3, '키위', 3000, <cx_Oracle.LOB object at 0x000000000C47F288>, 'kiwi.jpg'), (4, '포도', 5000, <cx_Oracle.LOB object at 0x000000000C47F5A8>, 'grape.jpg'), (5, '딸기', 8000, <cx_Oracle.LOB object at 0x000000000C47F300>, 'strawberry.jpg'), (6, '귤', 7000, <cx_Oracle.LOB object at 0x0000000007E2E850>, 'tangerine.jpg')]\n",
      "(1, '레몬', 1500, <cx_Oracle.LOB object at 0x0000000007E22EE0>, 'lemon.jpg')\n",
      "레몬에 포함된 구연산은 피로회복에 좋습니다. 비타민 C도 풍부합니다.\n",
      "(2, '오렌지', 2000, <cx_Oracle.LOB object at 0x000000000C47F788>, 'orange.jpg')\n",
      "비타민 C가 풍부합니다. 생과일 주스로 마시면 좋습니다.\n",
      "(3, '키위', 3000, <cx_Oracle.LOB object at 0x000000000C47F288>, 'kiwi.jpg')\n",
      "비타민 C가 매우 풍부합니다. 다이어트나 미용에 좋습니다.\n",
      "(4, '포도', 5000, <cx_Oracle.LOB object at 0x000000000C47F5A8>, 'grape.jpg')\n",
      "폴리페놀을 다량 함유하고 있어 항산화 작용을 합니다.\n",
      "(5, '딸기', 8000, <cx_Oracle.LOB object at 0x000000000C47F300>, 'strawberry.jpg')\n",
      "비타민 C나 플라보노이드를 다량 함유하고 있습니다.\n",
      "(6, '귤', 7000, <cx_Oracle.LOB object at 0x0000000007E2E850>, 'tangerine.jpg')\n",
      "시네피린을 함유하고 있어 감기 예방에 좋다고 합니다.\n"
     ]
    }
   ],
   "source": [
    "sql = \"select * from product\"\n",
    "cursor.execute(sql)\n",
    "rs=cursor.fetchall() #모든 레코드를 리턴받음\n",
    "print(type(rs))\n",
    "print(rs)\n",
    "for row in rs:\n",
    "    description=row[3].read() #CLOB 필드 읽기\n",
    "    print(row)\n",
    "    print(description)\n",
    "    \n",
    "cursor.close() #커서 닫기\n",
    "conn.close() #db 접속 종료"
   ]
  },
  {
   "cell_type": "code",
   "execution_count": null,
   "metadata": {},
   "outputs": [],
   "source": []
  },
  {
   "cell_type": "code",
   "execution_count": null,
   "metadata": {},
   "outputs": [],
   "source": []
  }
 ],
 "metadata": {
  "kernelspec": {
   "display_name": "Python 3",
   "language": "python",
   "name": "python3"
  },
  "language_info": {
   "codemirror_mode": {
    "name": "ipython",
    "version": 3
   },
   "file_extension": ".py",
   "mimetype": "text/x-python",
   "name": "python",
   "nbconvert_exporter": "python",
   "pygments_lexer": "ipython3",
   "version": "3.6.4"
  }
 },
 "nbformat": 4,
 "nbformat_minor": 2
}
