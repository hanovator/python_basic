{
 "cells": [
  {
   "cell_type": "code",
   "execution_count": 4,
   "metadata": {},
   "outputs": [
    {
     "name": "stdout",
     "output_type": "stream",
     "text": [
      "['__doc__', '__loader__', '__name__', '__package__', '__spec__', 'acos', 'acosh', 'asin', 'asinh', 'atan', 'atan2', 'atanh', 'ceil', 'copysign', 'cos', 'cosh', 'degrees', 'e', 'erf', 'erfc', 'exp', 'expm1', 'fabs', 'factorial', 'floor', 'fmod', 'frexp', 'fsum', 'gamma', 'gcd', 'hypot', 'inf', 'isclose', 'isfinite', 'isinf', 'isnan', 'ldexp', 'lgamma', 'log', 'log10', 'log1p', 'log2', 'modf', 'nan', 'pi', 'pow', 'radians', 'sin', 'sinh', 'sqrt', 'tan', 'tanh', 'tau', 'trunc']\n",
      "3.141592653589793\n",
      "32.0\n"
     ]
    }
   ],
   "source": [
    "# math 모듈 로딩\n",
    "import math\n",
    "# math 모듈의 변수,함수 목록\n",
    "print(dir(math))\n",
    "# 원주율\n",
    "print(math.pi)\n",
    "# pow(a,b) a의 b승 \n",
    "print(math.pow(2,5))"
   ]
  },
  {
   "cell_type": "code",
   "execution_count": 6,
   "metadata": {},
   "outputs": [],
   "source": [
    "# d:/work/python/source/mod1.py 로 저장\n",
    "def sum(a,b):\n",
    "    return a+b\n",
    "def safe_sum(a,b):\n",
    "    if type(a) != type(b):\n",
    "        print(\"자료형이 다르므로 계산할 수 없습니다.\")\n",
    "        return\n",
    "    else:\n",
    "        result=sum(a,b)\n",
    "    return result"
   ]
  },
  {
   "cell_type": "code",
   "execution_count": 6,
   "metadata": {},
   "outputs": [
    {
     "name": "stdout",
     "output_type": "stream",
     "text": [
      "7\n",
      "7\n",
      "자료형이 다르므로 계산할 수 없습니다.\n",
      "None\n"
     ]
    }
   ],
   "source": [
    "from mod1 import *\n",
    "print(sum(3,4))\n",
    "print(safe_sum(3,4))\n",
    "print(safe_sum(3,'a'))"
   ]
  },
  {
   "cell_type": "code",
   "execution_count": 4,
   "metadata": {},
   "outputs": [
    {
     "name": "stdout",
     "output_type": "stream",
     "text": [
      "['', 'C:\\\\Anaconda3\\\\python36.zip', 'C:\\\\Anaconda3\\\\DLLs', 'C:\\\\Anaconda3\\\\lib', 'C:\\\\Anaconda3', 'C:\\\\Anaconda3\\\\lib\\\\site-packages', 'C:\\\\Anaconda3\\\\lib\\\\site-packages\\\\win32', 'C:\\\\Anaconda3\\\\lib\\\\site-packages\\\\win32\\\\lib', 'C:\\\\Anaconda3\\\\lib\\\\site-packages\\\\Pythonwin', 'C:\\\\Anaconda3\\\\lib\\\\site-packages\\\\IPython\\\\extensions', 'C:\\\\Users\\\\user\\\\.ipython', 'd:/work/python/source']\n"
     ]
    }
   ],
   "source": [
    "#sys 모듈 import\n",
    "#PYTHONPATH\n",
    "# 파이썬 실행파일이 위치한 디렉토리 목록 \n",
    "import sys\n",
    "print(sys.path)\n",
    "# 디렉토리 추가\n",
    "sys.path.append(\"d:/work/python/source\")\n",
    "# 디렉토리 제거\n",
    "#sys.path.remove(\"d:/work/python/source\")"
   ]
  },
  {
   "cell_type": "code",
   "execution_count": null,
   "metadata": {},
   "outputs": [],
   "source": [
    "PI = 3.141592\n",
    "class Math:\n",
    "    def solv(self, r):\n",
    "        return PI * ( r ** 2)\n",
    "    def sum(a,b):\n",
    "        return a+b\n",
    "if __name__ == \"__main__\": # main 함수\n",
    "    print(PI)\n",
    "    a = Math()\n",
    "    print(a.solv(2))\n",
    "    print(sum(PI, 4.4))"
   ]
  },
  {
   "cell_type": "code",
   "execution_count": 7,
   "metadata": {},
   "outputs": [
    {
     "name": "stdout",
     "output_type": "stream",
     "text": [
      "PI: 3.141592\n",
      "12.566368\n"
     ]
    }
   ],
   "source": [
    "#mod2.py 모듈 로딩\n",
    "import mod2\n",
    "# 모듈.변수 or 모듈.함수()\n",
    "print(\"PI:\", mod2.PI)\n",
    "# mod2 모듈의 Math 클래스의 인스턴스 생성\n",
    "a=mod2.Math()\n",
    "print(a.solv(2))"
   ]
  },
  {
   "cell_type": "code",
   "execution_count": null,
   "metadata": {},
   "outputs": [],
   "source": []
  },
  {
   "cell_type": "code",
   "execution_count": null,
   "metadata": {},
   "outputs": [],
   "source": []
  }
 ],
 "metadata": {
  "kernelspec": {
   "display_name": "Python 3",
   "language": "python",
   "name": "python3"
  },
  "language_info": {
   "codemirror_mode": {
    "name": "ipython",
    "version": 3
   },
   "file_extension": ".py",
   "mimetype": "text/x-python",
   "name": "python",
   "nbconvert_exporter": "python",
   "pygments_lexer": "ipython3",
   "version": "3.6.4"
  }
 },
 "nbformat": 4,
 "nbformat_minor": 2
}
