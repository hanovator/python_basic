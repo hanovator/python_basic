{
 "cells": [
  {
   "cell_type": "code",
   "execution_count": 2,
   "metadata": {},
   "outputs": [
    {
     "name": "stdout",
     "output_type": "stream",
     "text": [
      "['Supplier Name', 'Invoice Number', 'Part Number', 'Cost', 'Purchase Date']\n",
      "['A', '001-1001', '2341', '500000', '2014-01-20']\n",
      "['A', '001-1001', '2341', '500000', '2014-01-20']\n",
      "['A', '001-1001', '5467', '750000', '2014-01-20']\n",
      "['A', '001-1001', '5467', '750000', '2014-01-20']\n",
      "['B', '50-9501', '7009', '250000', '2018-01-30']\n",
      "['B', '50-9501', '7009', '250000', '2018-01-30']\n",
      "['B', '50-9505', '6650', '125000', '2017-02-03']\n",
      "['B', '50-9505', '6650', '125000', '2017-02-03']\n",
      "['C', '920-4803', '3321', '615000', '2017-02-03']\n",
      "['C', '920-4804', '3321', '615000', '2017-02-10']\n",
      "['C', '920-4805', '3321', '615000', '2017-02-17']\n",
      "['C', '920-4806', '3321', '615000', '2017-02-24']\n"
     ]
    }
   ],
   "source": [
    "import csv\n",
    "import MySQLdb\n",
    "from datetime import datetime, date\n",
    "\n",
    "input_file=\"d:/data/db/input.csv\" #데이터파일 경로\n",
    "#mysql server에 접속\n",
    "conn= MySQLdb.connect(host=\"localhost\",port=3306,db=\"my_suppliers\",\\\n",
    "                      user=\"java\", passwd=\"java1234\")\n",
    "cursor=conn.cursor() # sql 실행을 위한 커서 객체 생성\n",
    "#기존 레코드 삭제\n",
    "sql=\"delete from suppliers\"\n",
    "cursor.execute(sql)\n",
    "conn.commit()\n",
    "\n",
    "# csv 파일 로딩(구분자는 쉼표)\n",
    "file_reader= csv.reader(open(input_file,\"r\"), delimiter=\",\")\n",
    "header=next(file_reader) #첫라인은 넘어감\n",
    "print(header)\n",
    "for row in file_reader:\n",
    "    data=[]\n",
    "    for idx in range(len(header)):\n",
    "        data.append(str(row[idx]).replace(\",\",\"\").strip())\n",
    "    print(data)\n",
    "    cursor.execute(\\\n",
    "\"insert into suppliers values (%s,%s,%s,%s,%s)\",data) #sql 실행\n",
    "\n",
    "conn.commit()    #db에 반영"
   ]
  },
  {
   "cell_type": "code",
   "execution_count": 3,
   "metadata": {},
   "outputs": [
    {
     "name": "stdout",
     "output_type": "stream",
     "text": [
      "['A', '001-1001', '2341', '500000.0', '2014-01-20']\n",
      "['A', '001-1001', '2341', '500000.0', '2014-01-20']\n",
      "['A', '001-1001', '5467', '750000.0', '2014-01-20']\n",
      "['A', '001-1001', '5467', '750000.0', '2014-01-20']\n",
      "['B', '50-9501', '7009', '250000.0', '2018-01-30']\n",
      "['B', '50-9501', '7009', '250000.0', '2018-01-30']\n",
      "['B', '50-9505', '6650', '125000.0', '2017-02-03']\n",
      "['B', '50-9505', '6650', '125000.0', '2017-02-03']\n",
      "['C', '920-4803', '3321', '615000.0', '2017-02-03']\n",
      "['C', '920-4804', '3321', '615000.0', '2017-02-10']\n",
      "['C', '920-4805', '3321', '615000.0', '2017-02-17']\n",
      "['C', '920-4806', '3321', '615000.0', '2017-02-24']\n"
     ]
    }
   ],
   "source": [
    "cursor.execute(\"select * from suppliers\") #쿼리 실행\n",
    "rows = cursor.fetchall() #전체 레코드셋을 리스트로 리턴\n",
    "for row in rows: # 모든 레코드 반복 처리\n",
    "    output=[]\n",
    "    for idx in range(len(row)):\n",
    "        output.append(str(row[idx]))\n",
    "    print(output)"
   ]
  },
  {
   "cell_type": "code",
   "execution_count": 4,
   "metadata": {},
   "outputs": [],
   "source": [
    "import csv # csv 모듈\n",
    "import MySQLdb # mysql 모듈\n",
    "\n",
    "output_file=\"d:/data/db/mysql_output.csv\" #출력 파일 이름\n",
    "#mysql server에 접속\n",
    "conn=MySQLdb.connect(host=\"localhost\",port=3306,db=\"my_suppliers\",\\\n",
    "                     user=\"java\",passwd=\"java1234\")\n",
    "cursor=conn.cursor() #sql 실행을 위한 커서 객체 생성\n",
    "# 개행문자는 없고 필드구분자는 쉼표\n",
    "filewriter=csv.writer(open(output_file,\"w\",newline=\"\"),delimiter=\",\")\n",
    "header=[\"Supplier Name\",\"Invoice Number\",\\\n",
    "        \"Part Number\",\"Cost\",\"Purchase Date\"]\n",
    "filewriter.writerow(header) #첫행 저장\n",
    "#쿼리 실행\n",
    "cursor.execute(\"select * from suppliers where cost>500000\")\n",
    "rows = cursor.fetchall() #모든 레코드셋을 리스트로 받음\n",
    "for row in rows:\n",
    "    filewriter.writerow(row) #파일에 한 라인을 저장(개행문자 추가)"
   ]
  },
  {
   "cell_type": "code",
   "execution_count": 26,
   "metadata": {},
   "outputs": [
    {
     "name": "stdout",
     "output_type": "stream",
     "text": [
      "['A', '001-1001', '2341', '1500.0', '2015-01-20']\n",
      "['A', '001-1001', '2341', '1500.0', '2015-01-20']\n",
      "['A', '001-1001', '5467', '1500.0', '2015-01-20']\n",
      "['A', '001-1001', '5467', '1500.0', '2015-01-20']\n",
      "['B', '50-9501', '7009', '250000.0', '2018-01-30']\n",
      "['B', '50-9501', '7009', '250000.0', '2018-01-30']\n",
      "['B', '50-9505', '6650', '125000.0', '2017-02-03']\n",
      "['B', '50-9505', '6650', '125000.0', '2017-02-03']\n",
      "['C', '920-4803', '3321', '615000.0', '2017-02-03']\n",
      "['C', '920-4804', '3321', '615000.0', '2017-02-10']\n",
      "['C', '920-4805', '3321', '615000.0', '2017-02-17']\n",
      "['C', '920-4806', '3321', '615000.0', '2017-02-24']\n"
     ]
    }
   ],
   "source": [
    "import MySQLdb # mysql 모듈 로딩\n",
    "conn=MySQLdb.connect(host=\"localhost\",\\\n",
    "port=3306,db=\"my_suppliers\",user=\"java\",passwd=\"java1234\")\n",
    "cursor=conn.cursor() #커서 객체 생성(sql 실행+결과셋 탐색)\n",
    "sql = \"\"\"\n",
    "update suppliers \n",
    "set cost=%s , purchase_date=%s \n",
    "where supplier_name=%s\n",
    "\"\"\"\n",
    "cursor.execute(sql, (1500,'2015-01-20',\"A\"))\n",
    "conn.commit() #DB에 반영\n",
    "cursor.execute(\"select * from suppliers\")\n",
    "rows = cursor.fetchall() #전체 레코드셋을 튜플로 리턴받음\n",
    "#print(rows)\n",
    "#print(type(rows))\n",
    "for row in rows:\n",
    "    output=[]\n",
    "    for idx in range(len(row)):\n",
    "        output.append(str(row[idx]))\n",
    "    print(output)"
   ]
  },
  {
   "cell_type": "code",
   "execution_count": null,
   "metadata": {},
   "outputs": [],
   "source": []
  },
  {
   "cell_type": "code",
   "execution_count": null,
   "metadata": {},
   "outputs": [],
   "source": []
  },
  {
   "cell_type": "code",
   "execution_count": null,
   "metadata": {},
   "outputs": [],
   "source": []
  },
  {
   "cell_type": "code",
   "execution_count": null,
   "metadata": {},
   "outputs": [],
   "source": []
  }
 ],
 "metadata": {
  "kernelspec": {
   "display_name": "Python 3",
   "language": "python",
   "name": "python3"
  },
  "language_info": {
   "codemirror_mode": {
    "name": "ipython",
    "version": 3
   },
   "file_extension": ".py",
   "mimetype": "text/x-python",
   "name": "python",
   "nbconvert_exporter": "python",
   "pygments_lexer": "ipython3",
   "version": "3.6.4"
  }
 },
 "nbformat": 4,
 "nbformat_minor": 2
}
