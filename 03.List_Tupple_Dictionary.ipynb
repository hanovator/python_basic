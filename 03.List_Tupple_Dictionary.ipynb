{
 "cells": [
  {
   "cell_type": "code",
   "execution_count": 5,
   "metadata": {},
   "outputs": [
    {
     "name": "stdout",
     "output_type": "stream",
     "text": [
      "[10, 3, 5, 7, 9]\n",
      "10\n",
      "9\n",
      "1\n",
      "2\n",
      "3\n",
      "['a', 'b', 'c']\n",
      "a\n"
     ]
    }
   ],
   "source": [
    "a=[1,3,5,7,9] # 리스트는 대괄호 [] 로 감싼다\n",
    "a[0] = 10 # 변경 가능\n",
    "print(a) # 리스트 전체\n",
    "print(a[0]) # 첫번째 요소\n",
    "print(a[-1]) # 마지막 요소\n",
    "\n",
    "a=[1,2,3,['a','b','c']] # 중첩 리스트\n",
    "for i in a:\n",
    "    print(i)\n",
    "print(a[-1][0]) # 리스트[행][열] "
   ]
  },
  {
   "cell_type": "code",
   "execution_count": 6,
   "metadata": {},
   "outputs": [
    {
     "name": "stdout",
     "output_type": "stream",
     "text": [
      "a: [10, 2, 3, 4, 5]\n",
      "b: [10, 2, 3, 4, 5]\n"
     ]
    }
   ],
   "source": [
    "#얕은 복사\n",
    "a=[1,2,3,4,5]\n",
    "b=a # a가 가리키는 주소값이 b 참조변수에 할당됨\n",
    "b[0]=10\n",
    "print(\"a:\",a)\n",
    "print(\"b:\",b)"
   ]
  },
  {
   "cell_type": "code",
   "execution_count": 7,
   "metadata": {},
   "outputs": [
    {
     "name": "stdout",
     "output_type": "stream",
     "text": [
      "a: [1, 2, 3, 4, 5]\n",
      "b: [10, 2, 3, 4, 5]\n"
     ]
    }
   ],
   "source": [
    "#깊은 복사\n",
    "a=[1,2,3,4,5]\n",
    "# 새로운 리스트를 메모리에 할당한 후 b 참조변수에 전달\n",
    "b=a[:] # a[start:end-1] start,end가 생략되면 전체 선택\n",
    "b[0]=10\n",
    "print(\"a:\",a)\n",
    "print(\"b:\",b)"
   ]
  },
  {
   "cell_type": "code",
   "execution_count": 8,
   "metadata": {},
   "outputs": [
    {
     "name": "stdout",
     "output_type": "stream",
     "text": [
      "[1, 2]\n",
      "[1, 2, 3, 4, 5, 6]\n",
      "[1, 2, 3, 1, 2, 3, 1, 2, 3]\n"
     ]
    }
   ],
   "source": [
    "a=[1,2,3,4,5]\n",
    "print(a[0:2]) #0부터 1까지\n",
    "\n",
    "a=[1,2,3]\n",
    "b=[4,5,6]\n",
    "c=a+b # 리스트와 리스트가 연결됨\n",
    "print(c)\n",
    "\n",
    "a=[1,2,3]\n",
    "b=a*3 # 리스트가 여러번 연결됨\n",
    "print(b)"
   ]
  },
  {
   "cell_type": "code",
   "execution_count": 11,
   "metadata": {},
   "outputs": [
    {
     "name": "stdout",
     "output_type": "stream",
     "text": [
      "<class 'list'>\n",
      "<class 'int'>\n"
     ]
    },
    {
     "ename": "TypeError",
     "evalue": "unsupported operand type(s) for +: 'int' and 'str'",
     "output_type": "error",
     "traceback": [
      "\u001b[1;31m---------------------------------------------------------------------------\u001b[0m",
      "\u001b[1;31mTypeError\u001b[0m                                 Traceback (most recent call last)",
      "\u001b[1;32m<ipython-input-11-8d11f3502c77>\u001b[0m in \u001b[0;36m<module>\u001b[1;34m()\u001b[0m\n\u001b[0;32m      2\u001b[0m \u001b[0mprint\u001b[0m\u001b[1;33m(\u001b[0m\u001b[0mtype\u001b[0m\u001b[1;33m(\u001b[0m\u001b[0ma\u001b[0m\u001b[1;33m)\u001b[0m\u001b[1;33m)\u001b[0m\u001b[1;33m\u001b[0m\u001b[0m\n\u001b[0;32m      3\u001b[0m \u001b[0mprint\u001b[0m\u001b[1;33m(\u001b[0m\u001b[0mtype\u001b[0m\u001b[1;33m(\u001b[0m\u001b[0ma\u001b[0m\u001b[1;33m[\u001b[0m\u001b[1;36m2\u001b[0m\u001b[1;33m]\u001b[0m\u001b[1;33m)\u001b[0m\u001b[1;33m)\u001b[0m\u001b[1;33m\u001b[0m\u001b[0m\n\u001b[1;32m----> 4\u001b[1;33m \u001b[0mprint\u001b[0m\u001b[1;33m(\u001b[0m\u001b[0ma\u001b[0m\u001b[1;33m[\u001b[0m\u001b[1;36m2\u001b[0m\u001b[1;33m]\u001b[0m\u001b[1;33m+\u001b[0m\u001b[1;34m\"hi\"\u001b[0m\u001b[1;33m)\u001b[0m \u001b[1;31m#숫자 + 문자열 => 에러\u001b[0m\u001b[1;33m\u001b[0m\u001b[0m\n\u001b[0m",
      "\u001b[1;31mTypeError\u001b[0m: unsupported operand type(s) for +: 'int' and 'str'"
     ]
    }
   ],
   "source": [
    "a=[1,2,3]\n",
    "print(type(a))\n",
    "print(type(a[2]))\n",
    "print(a[2]+\"hi\") #숫자 + 문자열 => 에러"
   ]
  },
  {
   "cell_type": "code",
   "execution_count": 10,
   "metadata": {},
   "outputs": [
    {
     "name": "stdout",
     "output_type": "stream",
     "text": [
      "3hi\n"
     ]
    }
   ],
   "source": [
    "a=[1,2,3]\n",
    "# str(정수) 정수를 문자열로 변경\n",
    "print( str(a[2])+\"hi\")"
   ]
  },
  {
   "cell_type": "code",
   "execution_count": 15,
   "metadata": {},
   "outputs": [
    {
     "name": "stdout",
     "output_type": "stream",
     "text": [
      "<class 'list'>\n",
      "[2]\n",
      "[1, 'a', 'b', 'c', 3]\n",
      "[1, ['a', 'b', 'c'], 3]\n"
     ]
    }
   ],
   "source": [
    "a=[1,2,3]\n",
    "print(type(a[1:2]))\n",
    "print(a[1:2]) # 리스트[start:end]  start~end-1 슬라이싱\n",
    "a[1:2] = [\"a\",\"b\",\"c\"]  # 두번째 요소에 'a','b','c' 삽입\n",
    "print(a)\n",
    "\n",
    "a=[1,2,3]\n",
    "a[1] = [\"a\",\"b\",\"c\"] #두번째 요소의 하위 리스트로 입력됨\n",
    "print(a)"
   ]
  },
  {
   "cell_type": "code",
   "execution_count": 1,
   "metadata": {},
   "outputs": [
    {
     "name": "stdout",
     "output_type": "stream",
     "text": [
      "[1]\n",
      "[1, 3]\n"
     ]
    }
   ],
   "source": [
    "a=[1,2,3]\n",
    "# 리스트[start:end]   슬라이싱 start ~ end-1 \n",
    "a[1:3] = [] # 1,2번 요소가 지워짐\n",
    "print(a)\n",
    "\n",
    "a=[1,2,3]\n",
    "del a[1] # 1번 인덱스 값 삭제\n",
    "print(a)"
   ]
  },
  {
   "cell_type": "code",
   "execution_count": 2,
   "metadata": {},
   "outputs": [
    {
     "name": "stdout",
     "output_type": "stream",
     "text": [
      "[1, 2, 3, 4]\n",
      "[1, 2, 3, 4, [5, 6]]\n"
     ]
    }
   ],
   "source": [
    "a=[1,2,3]\n",
    "# 리스트.append(value)  리스트에 새로운 요소 추가\n",
    "a.append(4)\n",
    "print(a)\n",
    "\n",
    "a.append([5,6])\n",
    "print(a)"
   ]
  },
  {
   "cell_type": "code",
   "execution_count": 4,
   "metadata": {},
   "outputs": [
    {
     "name": "stdout",
     "output_type": "stream",
     "text": [
      "[1, 2, 3, 4]\n",
      "[4, 3, 2, 1]\n",
      "['a', 'b', 'c']\n"
     ]
    }
   ],
   "source": [
    "a=[1,4,3,2]\n",
    "a.sort() \n",
    "print(a)\n",
    "a.reverse() #뒤집기\n",
    "print(a)\n",
    "\n",
    "a=['a','c','b']\n",
    "a.sort()\n",
    "print(a)"
   ]
  },
  {
   "cell_type": "code",
   "execution_count": 5,
   "metadata": {},
   "outputs": [
    {
     "name": "stdout",
     "output_type": "stream",
     "text": [
      "2\n",
      "0\n"
     ]
    },
    {
     "ename": "ValueError",
     "evalue": "0 is not in list",
     "output_type": "error",
     "traceback": [
      "\u001b[1;31m---------------------------------------------------------------------------\u001b[0m",
      "\u001b[1;31mValueError\u001b[0m                                Traceback (most recent call last)",
      "\u001b[1;32m<ipython-input-5-2616b586c49b>\u001b[0m in \u001b[0;36m<module>\u001b[1;34m()\u001b[0m\n\u001b[0;32m      2\u001b[0m \u001b[0mprint\u001b[0m\u001b[1;33m(\u001b[0m\u001b[0ma\u001b[0m\u001b[1;33m.\u001b[0m\u001b[0mindex\u001b[0m\u001b[1;33m(\u001b[0m\u001b[1;36m3\u001b[0m\u001b[1;33m)\u001b[0m\u001b[1;33m)\u001b[0m\u001b[1;33m\u001b[0m\u001b[0m\n\u001b[0;32m      3\u001b[0m \u001b[0mprint\u001b[0m\u001b[1;33m(\u001b[0m\u001b[0ma\u001b[0m\u001b[1;33m.\u001b[0m\u001b[0mindex\u001b[0m\u001b[1;33m(\u001b[0m\u001b[1;36m1\u001b[0m\u001b[1;33m)\u001b[0m\u001b[1;33m)\u001b[0m\u001b[1;33m\u001b[0m\u001b[0m\n\u001b[1;32m----> 4\u001b[1;33m \u001b[0mprint\u001b[0m\u001b[1;33m(\u001b[0m\u001b[0ma\u001b[0m\u001b[1;33m.\u001b[0m\u001b[0mindex\u001b[0m\u001b[1;33m(\u001b[0m\u001b[1;36m0\u001b[0m\u001b[1;33m)\u001b[0m\u001b[1;33m)\u001b[0m\u001b[1;33m\u001b[0m\u001b[0m\n\u001b[0m",
      "\u001b[1;31mValueError\u001b[0m: 0 is not in list"
     ]
    }
   ],
   "source": [
    "a=[1,2,3]\n",
    "print(a.index(3)) # 3이라는 값이 몇번째 위치에 있는가?\n",
    "print(a.index(1))\n",
    "print(a.index(0)) # 값이 없으면 에러 발생"
   ]
  },
  {
   "cell_type": "code",
   "execution_count": 7,
   "metadata": {},
   "outputs": [
    {
     "name": "stdout",
     "output_type": "stream",
     "text": [
      "[1, 2, 3]\n",
      "[4, 1, 2, 3]\n"
     ]
    }
   ],
   "source": [
    "a=[1,2,3]\n",
    "print(a)\n",
    "\n",
    "a.insert(0,4) #0번 인덱스 위치에 4를 입력\n",
    "print(a)"
   ]
  },
  {
   "cell_type": "code",
   "execution_count": 10,
   "metadata": {},
   "outputs": [
    {
     "name": "stdout",
     "output_type": "stream",
     "text": [
      "[1, 2, 1, 2, 3]\n",
      "[2, 1, 2, 3]\n"
     ]
    }
   ],
   "source": [
    "a=[1,2,3,1,2,3]\n",
    "# a 리스트에서 값이 3인 요소 제거(1개만)\n",
    "a.remove(3) #값으로 삭제\n",
    "print(a)\n",
    "del a[0] #인덱스로 삭제\n",
    "print(a)"
   ]
  },
  {
   "cell_type": "code",
   "execution_count": 11,
   "metadata": {},
   "outputs": [
    {
     "name": "stdout",
     "output_type": "stream",
     "text": [
      "[1, 2]\n",
      "3\n"
     ]
    }
   ],
   "source": [
    "a=[1,2,3]\n",
    "b=a.pop() #리스트의 마지막 요소를 꺼내고 리스트에서 삭제\n",
    "print(a)\n",
    "print(b)"
   ]
  },
  {
   "cell_type": "code",
   "execution_count": 12,
   "metadata": {},
   "outputs": [
    {
     "name": "stdout",
     "output_type": "stream",
     "text": [
      "3\n"
     ]
    }
   ],
   "source": [
    "a=[1,2,3,1,2,1]\n",
    "b=a.count(1) # value가 1인 요소가 몇 개인지 계산\n",
    "print(b)"
   ]
  },
  {
   "cell_type": "code",
   "execution_count": 16,
   "metadata": {},
   "outputs": [
    {
     "name": "stdout",
     "output_type": "stream",
     "text": [
      "[1, 2, 3, 4, 5]\n",
      "[1, 2, 3, 4, 5, 4, 5]\n"
     ]
    }
   ],
   "source": [
    "#리스트의 확장\n",
    "a=[1,2,3]\n",
    "# 리스트1.extends(리스트2)\n",
    "a.extend([4,5]) \n",
    "print(a)\n",
    "# a.extend(6) 리스트만 가능\n",
    "b=[4,5]\n",
    "print(a+b) #리스트의 연결"
   ]
  },
  {
   "cell_type": "code",
   "execution_count": 14,
   "metadata": {},
   "outputs": [
    {
     "name": "stdout",
     "output_type": "stream",
     "text": [
      "True\n",
      "False\n"
     ]
    }
   ],
   "source": [
    "a=[1,2,3,4,5]\n",
    "result = 2 in a # a 리스트에 값 2가 포함되어 있는가?\n",
    "print(result)\n",
    "\n",
    "result = 2 not in a # a 리스트에 값 2가 포함되어 있지 않은가?\n",
    "print(result)"
   ]
  },
  {
   "cell_type": "code",
   "execution_count": 21,
   "metadata": {},
   "outputs": [
    {
     "ename": "TypeError",
     "evalue": "'tuple' object does not support item assignment",
     "output_type": "error",
     "traceback": [
      "\u001b[1;31m---------------------------------------------------------------------------\u001b[0m",
      "\u001b[1;31mTypeError\u001b[0m                                 Traceback (most recent call last)",
      "\u001b[1;32m<ipython-input-21-dc597b01ddb0>\u001b[0m in \u001b[0;36m<module>\u001b[1;34m()\u001b[0m\n\u001b[0;32m      1\u001b[0m \u001b[0mt1\u001b[0m \u001b[1;33m=\u001b[0m \u001b[1;33m(\u001b[0m\u001b[1;36m1\u001b[0m\u001b[1;33m,\u001b[0m\u001b[1;36m2\u001b[0m\u001b[1;33m,\u001b[0m\u001b[1;34m'a'\u001b[0m\u001b[1;33m,\u001b[0m\u001b[1;34m'b'\u001b[0m\u001b[1;33m)\u001b[0m\u001b[1;33m\u001b[0m\u001b[0m\n\u001b[1;32m----> 2\u001b[1;33m \u001b[0mt1\u001b[0m\u001b[1;33m[\u001b[0m\u001b[1;36m0\u001b[0m\u001b[1;33m]\u001b[0m \u001b[1;33m=\u001b[0m \u001b[1;34m'c'\u001b[0m \u001b[1;31m#튜플은 변경할 수 없음\u001b[0m\u001b[1;33m\u001b[0m\u001b[0m\n\u001b[0m\u001b[0;32m      3\u001b[0m \u001b[1;32mdel\u001b[0m \u001b[0mt1\u001b[0m\u001b[1;33m[\u001b[0m\u001b[1;36m2\u001b[0m\u001b[1;33m]\u001b[0m \u001b[1;31m#삭제할 수 없음\u001b[0m\u001b[1;33m\u001b[0m\u001b[0m\n",
      "\u001b[1;31mTypeError\u001b[0m: 'tuple' object does not support item assignment"
     ]
    }
   ],
   "source": [
    "t1 = (1,2,'a','b')\n",
    "t1[0] = 'c' #튜플은 변경할 수 없음\n",
    "del t1[2] #삭제할 수 없음"
   ]
  },
  {
   "cell_type": "code",
   "execution_count": 30,
   "metadata": {},
   "outputs": [
    {
     "name": "stdout",
     "output_type": "stream",
     "text": [
      "(2, 'a', 'b')\n",
      "(1, 2, 'a', 'b', 3, 4)\n",
      "t1: (1, 2, 'a', 'b', 3, 4)\n",
      "(1, 2, 'a', 'b', 3, 4, 1, 2, 'a', 'b', 3, 4, 1, 2, 'a', 'b', 3, 4)\n"
     ]
    }
   ],
   "source": [
    "t1=(1,2,'a','b')\n",
    "print(t1[1:]) # 인덱스 1부터 끝까지\n",
    "t2=(3,4)\n",
    "print(t1 + t2) # 새로운 튜플이 생성됨\n",
    "t1 = t1 + t2\n",
    "print(\"t1:\",t1)\n",
    "\n",
    "print(t1 * 3) # t1 튜플을 3개 연결한 새로운 튜플"
   ]
  },
  {
   "cell_type": "code",
   "execution_count": 31,
   "metadata": {},
   "outputs": [
    {
     "name": "stdout",
     "output_type": "stream",
     "text": [
      "1 2 3\n",
      "2 1\n"
     ]
    }
   ],
   "source": [
    "t1 = (1,2,3)\n",
    "#튜플의 값을 여러 개의 변수에 저장\n",
    "n1,n2,n3=t1\n",
    "# 출력형식포함문자열.format(값1,값2,값3)\n",
    "print(\"{0} {1} {2}\".format(n1,n2,n3))\n",
    "# 변수의 값을 교환\n",
    "n1,n2=n2,n1\n",
    "print(\"{} {}\".format(n1,n2))"
   ]
  },
  {
   "cell_type": "code",
   "execution_count": 34,
   "metadata": {},
   "outputs": [
    {
     "name": "stdout",
     "output_type": "stream",
     "text": [
      "나이:김철수, 키:20, 이름:180.5\n"
     ]
    }
   ],
   "source": [
    "name=\"김철수\"\n",
    "age=20\n",
    "height=180.5\n",
    "print( \"나이:{1}, 키:{2}, 이름:{0}\".format(name,age,height))"
   ]
  },
  {
   "cell_type": "code",
   "execution_count": 38,
   "metadata": {},
   "outputs": [
    {
     "name": "stdout",
     "output_type": "stream",
     "text": [
      "(1, 2, 3)\n",
      "['a', 'b', 'c']\n",
      "<class 'tuple'>\n",
      "<class 'list'>\n"
     ]
    }
   ],
   "source": [
    "my_list=[1,2,3]\n",
    "my_tuple=('a','b','c')\n",
    "a=tuple(my_list)\n",
    "print( a ) #리스트를 튜플로 복사\n",
    "b=list(my_tuple)\n",
    "print( b ) #튜플을 리스트로 복사\n",
    "print( type(a))\n",
    "print( type(b) )"
   ]
  },
  {
   "cell_type": "code",
   "execution_count": 39,
   "metadata": {},
   "outputs": [
    {
     "name": "stdout",
     "output_type": "stream",
     "text": [
      "{1: 'a', 2: 'b'}\n"
     ]
    }
   ],
   "source": [
    "a={1:'a'} # { key:value , key:value }\n",
    "a[2]='b' # 딕셔너리[key] = value  (새로운 요소 추가)\n",
    "print(a) "
   ]
  },
  {
   "cell_type": "code",
   "execution_count": 43,
   "metadata": {},
   "outputs": [
    {
     "name": "stdout",
     "output_type": "stream",
     "text": [
      "{'name': '김철수', 'phone': '01033335555', 'birth': '901231'}\n",
      "김철수\n",
      "김철수\n",
      "901231\n"
     ]
    }
   ],
   "source": [
    "a={\"name\":\"김철수\", \"phone\":\"01033335555\",\"birth\":\"901231\"}\n",
    "print(a)\n",
    "print(a[\"name\"])\n",
    "print(a.get(\"name\"))\n",
    "print(a[\"birth\"])"
   ]
  },
  {
   "cell_type": "code",
   "execution_count": 48,
   "metadata": {},
   "outputs": [
    {
     "name": "stdout",
     "output_type": "stream",
     "text": [
      "dict_keys(['name', 'phone', 'birth'])\n",
      "dict_values(['김철수', '01033335555', '901231'])\n",
      "name\n",
      "phone\n",
      "birth\n",
      "['name', 'phone', 'birth']\n",
      "('name', 'phone', 'birth')\n",
      "dict_items([('name', '김철수'), ('phone', '01033335555'), ('birth', '901231')])\n"
     ]
    }
   ],
   "source": [
    "a={\"name\":\"김철수\", \"phone\":\"01033335555\",\"birth\":\"901231\"}\n",
    "print(a.keys()) # 딕셔너리의 key 집합\n",
    "print(a.values()) # value 집합\n",
    "# for 개별값 in 집합\n",
    "for k in a.keys():\n",
    "    print(k)\n",
    "# key 집합을 리스트로 생성    \n",
    "b=list(a.keys())    \n",
    "print(b)\n",
    "c=tuple(a.keys())\n",
    "print(c)\n",
    "print(a.items())"
   ]
  },
  {
   "cell_type": "code",
   "execution_count": 54,
   "metadata": {},
   "outputs": [
    {
     "name": "stdout",
     "output_type": "stream",
     "text": [
      "dict_items([('name', '김철수'), ('phone', '01033335555'), ('birth', '901231')])\n",
      "<class 'list'>\n",
      "('name', '김철수')\n"
     ]
    }
   ],
   "source": [
    "a={\"name\":\"김철수\", \"phone\":\"01033335555\",\"birth\":\"901231\"}\n",
    "print(a.items())\n",
    "b= list(a.items()) #리스트로 저장\n",
    "print( type(b) )\n",
    "print( b[0] )"
   ]
  },
  {
   "cell_type": "code",
   "execution_count": 58,
   "metadata": {},
   "outputs": [
    {
     "data": {
      "text/plain": [
       "{1, 2, 3, 4, 5}"
      ]
     },
     "execution_count": 58,
     "metadata": {},
     "output_type": "execute_result"
    }
   ],
   "source": [
    "# 중복값은 제거됨, 순서대로 저장되지 않음\n",
    "s1 = set([5,4,3,1,2,3,2,3,3,3,3])\n",
    "s1"
   ]
  },
  {
   "cell_type": "code",
   "execution_count": 60,
   "metadata": {},
   "outputs": [
    {
     "name": "stdout",
     "output_type": "stream",
     "text": [
      "{4, 5, 6}\n",
      "{1, 2, 3, 4, 5, 6, 7, 8, 9}\n",
      "{1, 2, 3}\n"
     ]
    }
   ],
   "source": [
    "s1=set([1,2,3,4,5,6])\n",
    "s2=set([4,5,6,7,8,9])\n",
    "#print(s1 & s2) #교집합\n",
    "#print(s1 | s2) #합집합\n",
    "#print(s1 - s2) #차집합\n",
    "print(s1.intersection(s2)) #교집합\n",
    "print(s1.union(s2)) #합집합\n",
    "print(s1.difference(s2)) #차집합"
   ]
  },
  {
   "cell_type": "code",
   "execution_count": 61,
   "metadata": {},
   "outputs": [
    {
     "data": {
      "text/plain": [
       "{1, 2, 3, 4}"
      ]
     },
     "execution_count": 61,
     "metadata": {},
     "output_type": "execute_result"
    }
   ],
   "source": [
    "#값 1개 추가\n",
    "s1=set([1,2,3])\n",
    "s1.add(4)\n",
    "s1"
   ]
  },
  {
   "cell_type": "code",
   "execution_count": 64,
   "metadata": {},
   "outputs": [
    {
     "name": "stdout",
     "output_type": "stream",
     "text": [
      "{1, 2, 3, 4, 5, 6}\n",
      "{1, 3, 4, 5, 6}\n"
     ]
    }
   ],
   "source": [
    "#여러 개의 값 추가\n",
    "s1=set([1,2,3])\n",
    "s1.update([4,5,6])\n",
    "print(s1)\n",
    "s1.remove(2) # 값 제거\n",
    "print(s1)"
   ]
  },
  {
   "cell_type": "code",
   "execution_count": 69,
   "metadata": {},
   "outputs": [
    {
     "name": "stdout",
     "output_type": "stream",
     "text": [
      "2018-03-30\n",
      "2018\n",
      "3\n",
      "30\n",
      "2018-03-30 11:21:14.672565\n"
     ]
    }
   ],
   "source": [
    "from datetime import date,time,datetime,timedelta\n",
    "today = date.today() #현재 날짜\n",
    "print(today)\n",
    "print(today.year) #연도\n",
    "print(today.month) #월\n",
    "print(today.day) #일\n",
    "current_datetime = datetime.today() #현재 날짜+시간\n",
    "print( current_datetime )"
   ]
  },
  {
   "cell_type": "code",
   "execution_count": 84,
   "metadata": {},
   "outputs": [
    {
     "name": "stdout",
     "output_type": "stream",
     "text": [
      "2018-03-30 11:28:50.382630\n",
      "<class 'datetime.datetime'>\n",
      "18-03-30 11:28:50\n",
      "<class 'str'>\n"
     ]
    }
   ],
   "source": [
    "#형식화된 날짜 출력\n",
    "today = datetime.today()\n",
    "print( today )\n",
    "print( type(today))\n",
    "# 날짜 자료형을 문자열로 변환\n",
    "# %y 연도, %m 월 %M 분 %H 시간\n",
    "d = today.strftime(\"%y-%m-%d %H:%M:%S\")\n",
    "print( d )\n",
    "print( type(d) )"
   ]
  },
  {
   "cell_type": "code",
   "execution_count": null,
   "metadata": {},
   "outputs": [],
   "source": []
  },
  {
   "cell_type": "code",
   "execution_count": null,
   "metadata": {},
   "outputs": [],
   "source": []
  }
 ],
 "metadata": {
  "kernelspec": {
   "display_name": "Python 3",
   "language": "python",
   "name": "python3"
  },
  "language_info": {
   "codemirror_mode": {
    "name": "ipython",
    "version": 3
   },
   "file_extension": ".py",
   "mimetype": "text/x-python",
   "name": "python",
   "nbconvert_exporter": "python",
   "pygments_lexer": "ipython3",
   "version": "3.6.4"
  }
 },
 "nbformat": 4,
 "nbformat_minor": 2
}
