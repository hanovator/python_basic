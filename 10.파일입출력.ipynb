{
 "cells": [
  {
   "cell_type": "code",
   "execution_count": 1,
   "metadata": {},
   "outputs": [],
   "source": [
    "# open(파일이름, 옵션)  w 쓰기전용\n",
    "# 현재 디렉토리에 파일 생성\n",
    "f = open(\"file1.txt\", \"w\")\n",
    "f.close()"
   ]
  },
  {
   "cell_type": "code",
   "execution_count": 2,
   "metadata": {},
   "outputs": [],
   "source": [
    "# 지정한 디렉토리에 파일 생성\n",
    "f=open(\"D:\\learn\\python\\source/file2.txt\",\"w\")\n",
    "f.close()"
   ]
  },
  {
   "cell_type": "code",
   "execution_count": 3,
   "metadata": {},
   "outputs": [],
   "source": [
    "f=open(\"D:\\learn\\python\\source/file3.txt\",\"w\")\n",
    "# range(1,11) 1~10\n",
    "for i in range(1,11):\n",
    "    data = \"%d번째 줄입니다.\\n\"%i\n",
    "    #파일에 기록\n",
    "    f.write(data)\n",
    "#파일 닫기    \n",
    "f.close()   "
   ]
  },
  {
   "cell_type": "code",
   "execution_count": 10,
   "metadata": {},
   "outputs": [
    {
     "name": "stdout",
     "output_type": "stream",
     "text": [
      "1번째 줄입니다.\n",
      "2번째 줄입니다.\n",
      "3번째 줄입니다.\n",
      "4번째 줄입니다.\n",
      "5번째 줄입니다.\n",
      "6번째 줄입니다.\n",
      "7번째 줄입니다.\n",
      "8번째 줄입니다.\n",
      "9번째 줄입니다.\n",
      "10번째 줄입니다.\n"
     ]
    }
   ],
   "source": [
    "#읽기 모드로 오픈\n",
    "f=open(\"D:\\learn\\python\\source/file3.txt\",\"r\")\n",
    "while 1: \n",
    "    # 한 라인을 읽음\n",
    "    line=f.readline()\n",
    "    if not line: break #탈출 조건\n",
    "    print(line, end='')  #줄바꿈을 하지 않음\n",
    "f.close()     #파일 닫기"
   ]
  },
  {
   "cell_type": "code",
   "execution_count": 15,
   "metadata": {},
   "outputs": [
    {
     "name": "stdout",
     "output_type": "stream",
     "text": [
      "추가되었습니다.\n"
     ]
    }
   ],
   "source": [
    "nums = [0,1,2,3,4,5,6,7,8,9] #리스트 자료형\n",
    "count=len(nums) # 데이터 갯수\n",
    "output_file=\"D:\\learn\\python\\source/result.csv\"\n",
    "f=open(output_file, \"a\") # append 추가 모드\n",
    "for idx in range(count): # range(10) : 0~9\n",
    "    if idx < (count-1):\n",
    "        f.write(str(nums[idx])+\",\") # str(숫자) =>문자열로\n",
    "    else:\n",
    "        f.write(str(nums[idx])+\"\\n\")\n",
    "f.close() #파일 닫기\n",
    "print(\"추가되었습니다.\")"
   ]
  },
  {
   "cell_type": "code",
   "execution_count": 17,
   "metadata": {},
   "outputs": [
    {
     "name": "stdout",
     "output_type": "stream",
     "text": [
      "['1번째 줄입니다.\\n', '2번째 줄입니다.\\n', '3번째 줄입니다.\\n', '4번째 줄입니다.\\n', '5번째 줄입니다.\\n', '6번째 줄입니다.\\n', '7번째 줄입니다.\\n', '8번째 줄입니다.\\n', '9번째 줄입니다.\\n', '10번째 줄입니다.\\n']\n",
      "<class 'list'>\n",
      "1번째 줄입니다.\n",
      "2번째 줄입니다.\n",
      "3번째 줄입니다.\n",
      "4번째 줄입니다.\n",
      "5번째 줄입니다.\n",
      "6번째 줄입니다.\n",
      "7번째 줄입니다.\n",
      "8번째 줄입니다.\n",
      "9번째 줄입니다.\n",
      "10번째 줄입니다.\n"
     ]
    }
   ],
   "source": [
    "f=open(\"D:\\learn\\python\\source/file3.txt\",\"r\")\n",
    "lines=f.readlines() #전체 라인을 읽어서 리스트로 리턴\n",
    "print(lines)\n",
    "print(type(lines))\n",
    "for line in lines:\n",
    "    print(line,end='')\n",
    "f.close()    "
   ]
  },
  {
   "cell_type": "code",
   "execution_count": 18,
   "metadata": {},
   "outputs": [
    {
     "name": "stdout",
     "output_type": "stream",
     "text": [
      "<class 'str'>\n",
      "1번째 줄입니다.\n",
      "2번째 줄입니다.\n",
      "3번째 줄입니다.\n",
      "4번째 줄입니다.\n",
      "5번째 줄입니다.\n",
      "6번째 줄입니다.\n",
      "7번째 줄입니다.\n",
      "8번째 줄입니다.\n",
      "9번째 줄입니다.\n",
      "10번째 줄입니다.\n",
      "\n"
     ]
    }
   ],
   "source": [
    "f=open(\"D:\\learn\\python\\source/file3.txt\",\"r\")\n",
    "data=f.read() #파일 내용 전체를 하나의 문자열에 저장\n",
    "print(type(data))\n",
    "print(data)\n",
    "f.close()"
   ]
  },
  {
   "cell_type": "code",
   "execution_count": 29,
   "metadata": {},
   "outputs": [
    {
     "name": "stdout",
     "output_type": "stream",
     "text": [
      "1번째 줄입니다.\n",
      "2번째 줄입니다.\n",
      "3번째 줄입니다.\n",
      "4번째 줄입니다.\n",
      "5번째 줄입니다.\n",
      "6번째 줄입니다.\n",
      "7번째 줄입니다.\n",
      "8번째 줄입니다.\n",
      "9번째 줄입니다.\n",
      "10번째 줄입니다.\n"
     ]
    }
   ],
   "source": [
    "f=open(\"d:/work/python/source/file3.txt\",\"r\")\n",
    "#print(type(f))\n",
    "# 파일참조변수 f가 가리키는 파일의 내용을 한 라인씩 읽음\n",
    "for line in f: \n",
    "    #print(type(line))\n",
    "    print(line,end='')\n",
    "    \n",
    "f.close()    "
   ]
  },
  {
   "cell_type": "code",
   "execution_count": 20,
   "metadata": {},
   "outputs": [],
   "source": [
    "# with 블록을 벗어나면 파일이 자동으로 닫힘\n",
    "with open(\"D:\\learn\\python\\source/file4.txt\",\"w\") as f:\n",
    "    f.write(\"hello python\")\n",
    "    "
   ]
  },
  {
   "cell_type": "code",
   "execution_count": 28,
   "metadata": {},
   "outputs": [
    {
     "name": "stdout",
     "output_type": "stream",
     "text": [
      "1번째 줄입니다.\n",
      "2번째 줄입니다.\n",
      "3번째 줄입니다.\n",
      "4번째 줄입니다.\n",
      "5번째 줄입니다.\n",
      "6번째 줄입니다.\n",
      "7번째 줄입니다.\n",
      "8번째 줄입니다.\n",
      "9번째 줄입니다.\n",
      "10번째 줄입니다.\n",
      "파일포인터:171\n",
      "17\n",
      "2번째 줄입니다.\n",
      "\n",
      "34\n"
     ]
    }
   ],
   "source": [
    "f=open(\"D:\\learn\\python\\source/file3.txt\",\"r\") #읽기전용\n",
    "for line in f: #한 라인씩 읽음\n",
    "    print(line, end=\"\") \n",
    "print(\"파일포인터:%d\"%f.tell())\n",
    "\n",
    "    # seek(이동할위치, 기준위치)    \n",
    "f.seek(17,0) # 처음 위치로 파일 포인터 이동\n",
    "print(f.tell())\n",
    "line=f.readline() \n",
    "print(line)\n",
    "print(f.tell()) #파일 포인터의 현재 위치\n",
    "f.close()"
   ]
  },
  {
   "cell_type": "code",
   "execution_count": null,
   "metadata": {},
   "outputs": [],
   "source": [
    "f=open(\"d:/work/python/source/file3.txt\",\"r\")\n",
    "f_list=list(f) # 파일의 각 라인을 리스트로 저장\n",
    "print(f_list)\n",
    "f.close()"
   ]
  },
  {
   "cell_type": "code",
   "execution_count": null,
   "metadata": {},
   "outputs": [
    {
     "name": "stdout",
     "output_type": "stream",
     "text": [
      "1020000\n",
      "<class 'str'>\n"
     ]
    }
   ],
   "source": [
    "filename=\"d:/work/python/source/pi_million_digits.txt\"\n",
    "with open(filename) as f: #파일 오픈( auto close )\n",
    "    lines = f.readlines() #파일 내용을 읽어서 리스트로 저장\n",
    "pi_string=\"\"    \n",
    "for line in lines: \n",
    "    pi_string += line.rstrip() #오른쪽 공백 제거, 하나의 문자열로\n",
    "print(len(pi_string))    \n",
    "print(type(pi_string))\n",
    "num = input(\"숫자를 입력하세요:\")    \n",
    "# 찾는내용 in 문자열 : 내용이 있으면 True\n",
    "if num in pi_string: \n",
    "    print(num+\"숫자를 찾았습니다.\")\n",
    "else:\n",
    "    print(num+\"숫자를 찾지 못했습니다.\")"
   ]
  },
  {
   "cell_type": "code",
   "execution_count": null,
   "metadata": {},
   "outputs": [],
   "source": []
  },
  {
   "cell_type": "code",
   "execution_count": null,
   "metadata": {},
   "outputs": [],
   "source": []
  }
 ],
 "metadata": {
  "kernelspec": {
   "display_name": "Python 3",
   "language": "python",
   "name": "python3"
  },
  "language_info": {
   "codemirror_mode": {
    "name": "ipython",
    "version": 3
   },
   "file_extension": ".py",
   "mimetype": "text/x-python",
   "name": "python",
   "nbconvert_exporter": "python",
   "pygments_lexer": "ipython3",
   "version": "3.7.3"
  }
 },
 "nbformat": 4,
 "nbformat_minor": 2
}
