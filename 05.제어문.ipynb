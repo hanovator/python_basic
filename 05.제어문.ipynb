{
 "cells": [
  {
   "cell_type": "code",
   "execution_count": 7,
   "metadata": {},
   "outputs": [
    {
     "name": "stdout",
     "output_type": "stream",
     "text": [
      "색상을 입력하세요red\n",
      "기다리세요.\n"
     ]
    }
   ],
   "source": [
    "color = input(\"색상을 입력하세요\")\n",
    "if color==\"blue\":\n",
    "    print(\"건너가세요.\")\n",
    "else:\n",
    "    print(\"기다리세요.\")"
   ]
  },
  {
   "cell_type": "code",
   "execution_count": 9,
   "metadata": {},
   "outputs": [
    {
     "name": "stdout",
     "output_type": "stream",
     "text": [
      "홀수입니다.\n"
     ]
    }
   ],
   "source": [
    "num=101\n",
    "if num % 2 == 0:\n",
    "    print(\"짝수입니다.\")\n",
    "else:\n",
    "    print(\"홀수입니다.\")"
   ]
  },
  {
   "cell_type": "code",
   "execution_count": 15,
   "metadata": {},
   "outputs": [
    {
     "ename": "IndentationError",
     "evalue": "unexpected indent (<ipython-input-15-2cd823e55601>, line 6)",
     "output_type": "error",
     "traceback": [
      "\u001b[1;36m  File \u001b[1;32m\"<ipython-input-15-2cd823e55601>\"\u001b[1;36m, line \u001b[1;32m6\u001b[0m\n\u001b[1;33m    print(\"간다.\")\u001b[0m\n\u001b[1;37m    ^\u001b[0m\n\u001b[1;31mIndentationError\u001b[0m\u001b[1;31m:\u001b[0m unexpected indent\n"
     ]
    }
   ],
   "source": [
    "money = 10000\n",
    "# 변수의 값이 0이면 False, 0이 아니면 True\n",
    "if money:\n",
    "    print(\"택시를\")\n",
    "print(\"타고\")\n",
    "    print(\"간다.\")\n",
    "else:\n",
    "    print(\"0\")"
   ]
  },
  {
   "cell_type": "code",
   "execution_count": 21,
   "metadata": {},
   "outputs": [
    {
     "name": "stdout",
     "output_type": "stream",
     "text": [
      "색상을 입력하세요white\n",
      "잘못된 색상입니다.\n"
     ]
    }
   ],
   "source": [
    "color=input(\"색상을 입력하세요\")\n",
    "if color==\"blue\":\n",
    "    print(\"건너가세요\")\n",
    "elif color==\"red\":\n",
    "    print(\"기다리세요\")\n",
    "else:\n",
    "    print(\"잘못된 색상입니다.\")"
   ]
  },
  {
   "cell_type": "code",
   "execution_count": 23,
   "metadata": {},
   "outputs": [
    {
     "name": "stdout",
     "output_type": "stream",
     "text": [
      "1 2 3 4 5 "
     ]
    }
   ],
   "source": [
    "numbers=[1,2,3,4,5]\n",
    "for i in numbers:\n",
    "    # end=' ' 줄바꿈을 하지 않음\n",
    "    print(i,end=' ')"
   ]
  },
  {
   "cell_type": "code",
   "execution_count": 31,
   "metadata": {},
   "outputs": [
    {
     "name": "stdout",
     "output_type": "stream",
     "text": [
      "range(0, 10)\n",
      "[0, 1, 2, 3, 4, 5, 6, 7, 8, 9]\n",
      "[1, 2, 3, 4, 5, 6, 7, 8, 9, 10]\n",
      "[1, 3, 5, 7, 9]\n"
     ]
    }
   ],
   "source": [
    "# range(n) : 0 ~ n-1\n",
    "# range(start,end) : start ~ end-1\n",
    "# range(start,end,step) \n",
    "a=range(10)\n",
    "print(a)\n",
    "b=list(a)\n",
    "print(b)\n",
    "c=range(1,11)\n",
    "d=list(c)\n",
    "print(d)\n",
    "e=range(1,11,2)\n",
    "f=list(e)\n",
    "print(f)"
   ]
  },
  {
   "cell_type": "code",
   "execution_count": 27,
   "metadata": {},
   "outputs": [
    {
     "name": "stdout",
     "output_type": "stream",
     "text": [
      "2550\n"
     ]
    }
   ],
   "source": [
    "# 1~10까지의 합계\n",
    "\n",
    "sum=0\n",
    "for i in range(0,101,2):\n",
    "    sum += i\n",
    "print(sum)    "
   ]
  },
  {
   "cell_type": "code",
   "execution_count": 38,
   "metadata": {},
   "outputs": [
    {
     "name": "stdout",
     "output_type": "stream",
     "text": [
      "===2단===\n",
      "2x1=02\n",
      "2x2=04\n",
      "2x3=06\n",
      "2x4=08\n",
      "2x5=10\n",
      "2x6=12\n",
      "2x7=14\n",
      "2x8=16\n",
      "2x9=18\n",
      "\n",
      "===3단===\n",
      "3x1=03\n",
      "3x2=06\n",
      "3x3=09\n",
      "3x4=12\n",
      "3x5=15\n",
      "3x6=18\n",
      "3x7=21\n",
      "3x8=24\n",
      "3x9=27\n",
      "\n",
      "===4단===\n",
      "4x1=04\n",
      "4x2=08\n",
      "4x3=12\n",
      "4x4=16\n",
      "4x5=20\n",
      "4x6=24\n",
      "4x7=28\n",
      "4x8=32\n",
      "4x9=36\n",
      "\n",
      "===5단===\n",
      "5x1=05\n",
      "5x2=10\n",
      "5x3=15\n",
      "5x4=20\n",
      "5x5=25\n",
      "5x6=30\n",
      "5x7=35\n",
      "5x8=40\n",
      "5x9=45\n",
      "\n",
      "===6단===\n",
      "6x1=06\n",
      "6x2=12\n",
      "6x3=18\n",
      "6x4=24\n",
      "6x5=30\n",
      "6x6=36\n",
      "6x7=42\n",
      "6x8=48\n",
      "6x9=54\n",
      "\n",
      "===7단===\n",
      "7x1=07\n",
      "7x2=14\n",
      "7x3=21\n",
      "7x4=28\n",
      "7x5=35\n",
      "7x6=42\n",
      "7x7=49\n",
      "7x8=56\n",
      "7x9=63\n",
      "\n",
      "===8단===\n",
      "8x1=08\n",
      "8x2=16\n",
      "8x3=24\n",
      "8x4=32\n",
      "8x5=40\n",
      "8x6=48\n",
      "8x7=56\n",
      "8x8=64\n",
      "8x9=72\n",
      "\n",
      "===9단===\n",
      "9x1=09\n",
      "9x2=18\n",
      "9x3=27\n",
      "9x4=36\n",
      "9x5=45\n",
      "9x6=54\n",
      "9x7=63\n",
      "9x8=72\n",
      "9x9=81\n",
      "\n"
     ]
    }
   ],
   "source": [
    "for x in range(2,10):\n",
    "    print(\"==={0}단===\".format(x))\n",
    "    for y in range(1,10):\n",
    "        print(\"{0}x{1}={2:02d}\".format(x,y,x*y))\n",
    "    print() #줄바꿈\n",
    "    "
   ]
  },
  {
   "cell_type": "code",
   "execution_count": 1,
   "metadata": {},
   "outputs": [
    {
     "name": "stdout",
     "output_type": "stream",
     "text": [
      "1 + 2 = 3\n",
      "3 + 4 = 7\n",
      "5 + 6 = 11\n"
     ]
    }
   ],
   "source": [
    "a=[(1,2),(3,4),(5,6)]\n",
    "for (first,last) in a:\n",
    "    print(\"{0} + {1} = {2}\".format(first,last,first+last))"
   ]
  },
  {
   "cell_type": "code",
   "execution_count": 2,
   "metadata": {},
   "outputs": [
    {
     "name": "stdout",
     "output_type": "stream",
     "text": [
      "1번 : 90점, 합격\n",
      "2번 : 25점, 불합격\n",
      "3번 : 67점, 합격\n",
      "4번 : 45점, 불합격\n",
      "5번 : 80점, 합격\n"
     ]
    }
   ],
   "source": [
    "points = [90,25,67,45,80] #리스트(대괄호) 수정가능\n",
    "number=0\n",
    "for point in points: # 개별값 in 집합\n",
    "    number = number + 1\n",
    "    result=\"\"\n",
    "    if point >= 60:\n",
    "        result=\"합격\"\n",
    "    else:\n",
    "        result=\"불합격\"\n",
    "    print(\"%d번 : %d점, %s\"%(number,point,result))"
   ]
  },
  {
   "cell_type": "code",
   "execution_count": 3,
   "metadata": {},
   "outputs": [
    {
     "name": "stdout",
     "output_type": "stream",
     "text": [
      "{2: 4, 4: 16, 6: 36}\n"
     ]
    }
   ],
   "source": [
    "a={ x:x**2 for x in (2,4,6)}\n",
    "print(a)"
   ]
  },
  {
   "cell_type": "code",
   "execution_count": 6,
   "metadata": {},
   "outputs": [
    {
     "name": "stdout",
     "output_type": "stream",
     "text": [
      "커피를 드립니다.\n",
      "남은 커피:19개, 잔액:27000원\n",
      "\n",
      "커피를 드립니다.\n",
      "남은 커피:18개, 잔액:24000원\n",
      "\n",
      "커피를 드립니다.\n",
      "남은 커피:17개, 잔액:21000원\n",
      "\n",
      "커피를 드립니다.\n",
      "남은 커피:16개, 잔액:18000원\n",
      "\n",
      "커피를 드립니다.\n",
      "남은 커피:15개, 잔액:15000원\n",
      "\n",
      "커피를 드립니다.\n",
      "남은 커피:14개, 잔액:12000원\n",
      "\n",
      "커피를 드립니다.\n",
      "남은 커피:13개, 잔액:9000원\n",
      "\n",
      "커피를 드립니다.\n",
      "남은 커피:12개, 잔액:6000원\n",
      "\n",
      "커피를 드립니다.\n",
      "남은 커피:11개, 잔액:3000원\n",
      "\n",
      "커피를 드립니다.\n",
      "남은 커피:10개, 잔액:0원\n",
      "\n"
     ]
    }
   ],
   "source": [
    "coffee=20\n",
    "money=30000\n",
    "# 숫자값 0이면 False, 0이 아니면 True\n",
    "while money:\n",
    "    print(\"커피를 드립니다.\")\n",
    "    coffee = coffee - 1\n",
    "    money = money - 3000\n",
    "    print(\"남은 커피:%d개, 잔액:%d원\\n\"%(coffee,money))\n",
    "    if not coffee: # 0이면\n",
    "        print(\"커피가 떨어졌습니다. 판매를 중지합니다\")\n",
    "        break"
   ]
  },
  {
   "cell_type": "code",
   "execution_count": 7,
   "metadata": {},
   "outputs": [
    {
     "name": "stdout",
     "output_type": "stream",
     "text": [
      "1\n",
      "3\n",
      "5\n",
      "7\n",
      "9\n"
     ]
    }
   ],
   "source": [
    "a=0\n",
    "while a < 10:\n",
    "    a=a+1\n",
    "    if a%2 == 0: #a를 2로 나눈 나머지가 0이면\n",
    "        continue #다음 step으로 이동\n",
    "    print(a)"
   ]
  },
  {
   "cell_type": "code",
   "execution_count": 10,
   "metadata": {},
   "outputs": [
    {
     "name": "stdout",
     "output_type": "stream",
     "text": [
      "내용을 입력하세요(종료:x)aaa\n",
      "내용을 입력하세요(종료:x)bbb\n",
      "내용을 입력하세요(종료:x)ccc\n",
      "내용을 입력하세요(종료:x)x\n"
     ]
    }
   ],
   "source": [
    "while 1: #무한루프\n",
    "    s=input(\"내용을 입력하세요(종료:x)\")\n",
    "    if s==\"x\": #탈출조건\n",
    "        break; #탈출문"
   ]
  },
  {
   "cell_type": "code",
   "execution_count": 1,
   "metadata": {},
   "outputs": [
    {
     "name": "stdout",
     "output_type": "stream",
     "text": [
      "단을 입력하세요(종료:0)2\n",
      "2 x 1 = 2\n",
      "2 x 2 = 4\n",
      "2 x 3 = 6\n",
      "2 x 4 = 8\n",
      "2 x 5 = 10\n",
      "2 x 6 = 12\n",
      "2 x 7 = 14\n",
      "2 x 8 = 16\n",
      "2 x 9 = 18\n",
      "단을 입력하세요(종료:0)3\n",
      "3 x 1 = 3\n",
      "3 x 2 = 6\n",
      "3 x 3 = 9\n",
      "3 x 4 = 12\n",
      "3 x 5 = 15\n",
      "3 x 6 = 18\n",
      "3 x 7 = 21\n",
      "3 x 8 = 24\n",
      "3 x 9 = 27\n",
      "단을 입력하세요(종료:0)4\n",
      "4 x 1 = 4\n",
      "4 x 2 = 8\n",
      "4 x 3 = 12\n",
      "4 x 4 = 16\n",
      "4 x 5 = 20\n",
      "4 x 6 = 24\n",
      "4 x 7 = 28\n",
      "4 x 8 = 32\n",
      "4 x 9 = 36\n",
      "단을 입력하세요(종료:0)5\n",
      "5 x 1 = 5\n",
      "5 x 2 = 10\n",
      "5 x 3 = 15\n",
      "5 x 4 = 20\n",
      "5 x 5 = 25\n",
      "5 x 6 = 30\n",
      "5 x 7 = 35\n",
      "5 x 8 = 40\n",
      "5 x 9 = 45\n",
      "단을 입력하세요(종료:0)0\n"
     ]
    }
   ],
   "source": [
    "while 1:\n",
    "    dan=int(input(\"단을 입력하세요(종료:0)\"))\n",
    "    if dan==0:\n",
    "        break\n",
    "    for n in range(1,10):\n",
    "        print(dan,'x',n,'=',dan*n)"
   ]
  },
  {
   "cell_type": "code",
   "execution_count": null,
   "metadata": {},
   "outputs": [],
   "source": []
  },
  {
   "cell_type": "code",
   "execution_count": null,
   "metadata": {},
   "outputs": [],
   "source": []
  },
  {
   "cell_type": "code",
   "execution_count": null,
   "metadata": {},
   "outputs": [],
   "source": []
  },
  {
   "cell_type": "code",
   "execution_count": null,
   "metadata": {},
   "outputs": [],
   "source": []
  }
 ],
 "metadata": {
  "kernelspec": {
   "display_name": "Python 3",
   "language": "python",
   "name": "python3"
  },
  "language_info": {
   "codemirror_mode": {
    "name": "ipython",
    "version": 3
   },
   "file_extension": ".py",
   "mimetype": "text/x-python",
   "name": "python",
   "nbconvert_exporter": "python",
   "pygments_lexer": "ipython3",
   "version": "3.6.4"
  }
 },
 "nbformat": 4,
 "nbformat_minor": 2
}
