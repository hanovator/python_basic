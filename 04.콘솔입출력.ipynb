{
 "cells": [
  {
   "cell_type": "code",
   "execution_count": 1,
   "metadata": {},
   "outputs": [
    {
     "name": "stdout",
     "output_type": "stream",
     "text": [
      "입력하세요:100\n",
      "결과: 100\n"
     ]
    }
   ],
   "source": [
    "a = input(\"입력하세요:\")\n",
    "print(\"결과:\",a)"
   ]
  },
  {
   "cell_type": "code",
   "execution_count": 3,
   "metadata": {},
   "outputs": [
    {
     "name": "stdout",
     "output_type": "stream",
     "text": [
      "단을 입력하세요:5\n",
      "<class 'str'>\n",
      "단을 입력하세요:5\n",
      "<class 'int'>\n"
     ]
    }
   ],
   "source": [
    "dan = input(\"단을 입력하세요:\") #문자열로 입력됨\n",
    "print(type(dan))\n",
    "# eval(문자열)  => 숫자로 변환\n",
    "dan = eval(input(\"단을 입력하세요:\"))\n",
    "print(type(dan))"
   ]
  },
  {
   "cell_type": "code",
   "execution_count": 10,
   "metadata": {},
   "outputs": [
    {
     "name": "stdout",
     "output_type": "stream",
     "text": [
      "단을 입력하세요5\n",
      "<class 'int'>\n",
      "5 x 1 = 5\n",
      "5 x 2 = 10\n",
      "5 x 3 = 15\n",
      "5 x 4 = 20\n",
      "5 x 5 = 25\n",
      "5 x 6 = 30\n",
      "5 x 7 = 35\n",
      "5 x 8 = 40\n",
      "5 x 9 = 45\n"
     ]
    }
   ],
   "source": [
    "# 문자열을 숫자로 변경\n",
    "dan=eval(input(\"단을 입력하세요\"))\n",
    "print(type(dan))\n",
    "# range(start, end)  start ~ end-1\n",
    "for i in range(1,10):\n",
    "    print( \"{0} x {1} = {2}\".format(dan,i,dan*i))\n"
   ]
  },
  {
   "cell_type": "code",
   "execution_count": 11,
   "metadata": {},
   "outputs": [
    {
     "name": "stdout",
     "output_type": "stream",
     "text": [
      "0\n",
      "1\n",
      "2\n",
      "3\n",
      "4\n",
      "5\n",
      "6\n",
      "7\n",
      "8\n",
      "9\n",
      "0 1 2 3 4 5 6 7 8 9 "
     ]
    }
   ],
   "source": [
    "# range(n) : 0 ~ n-1\n",
    "for i in range(10):\n",
    "    print(i) #줄바꿈\n",
    "for i in range(10):\n",
    "    print(i, end=' ') #줄바꿈을 하지 않음"
   ]
  },
  {
   "cell_type": "code",
   "execution_count": 12,
   "metadata": {},
   "outputs": [
    {
     "name": "stdout",
     "output_type": "stream",
     "text": [
      "-f\n",
      "C:\\Users\\user\\AppData\\Roaming\\jupyter\\runtime\\kernel-1ca4f51e-80e3-4ed1-bbfe-ba49ea41acaf.json\n"
     ]
    }
   ],
   "source": [
    "# sys 모듈 import\n",
    "import sys\n",
    "# 명령행 매개변수 인덱스 1부터 끝까지\n",
    "args = sys.argv[1:]\n",
    "for i in args:\n",
    "    print(i)"
   ]
  },
  {
   "cell_type": "code",
   "execution_count": null,
   "metadata": {},
   "outputs": [],
   "source": [
    "# sys 모듈 import\n",
    "import sys\n",
    "# 명령행 매개변수의 1번~끝까지\n",
    "args = sys.argv[1:]\n",
    "for i in args:\n",
    "    # 대문자로 변환, 한 라인에 출력\n",
    "    print(i.upper(), end=' ')"
   ]
  },
  {
   "cell_type": "code",
   "execution_count": 17,
   "metadata": {},
   "outputs": [
    {
     "name": "stdout",
     "output_type": "stream",
     "text": [
      "이름:김철수\n",
      "직업:작가\n",
      "직업 : 김철수, 이름: 작가\n",
      "이름: 작가, 직업 : 김철수\n",
      "이름: 김철수, 직업:작가\n"
     ]
    }
   ],
   "source": [
    "name=input(\"이름:\")\n",
    "job=input(\"직업:\")\n",
    "print(\"직업 : {0}, 이름: {1}\".format(name,job))\n",
    "# {n} 출력순서를 바꾸어도 됨\n",
    "print(\"이름: {1}, 직업 : {0}\".format(name,job))\n",
    "# {변수명} 사용 가능\n",
    "print(\"이름: {n}, 직업:{j}\".format(n=name,j=job))"
   ]
  },
  {
   "cell_type": "code",
   "execution_count": 27,
   "metadata": {},
   "outputs": [
    {
     "name": "stdout",
     "output_type": "stream",
     "text": [
      "원주율:3.141593\n",
      "원주율:3.14\n"
     ]
    }
   ],
   "source": [
    "import math\n",
    "# {인덱스:출력형식} f : float 형식\n",
    "print(\"원주율:{0:f}\".format(math.pi))\n",
    "# .2f  소수 이하 2자리 출력\n",
    "print(\"원주율:{0:.2f}\".format(math.pi))"
   ]
  },
  {
   "cell_type": "code",
   "execution_count": 28,
   "metadata": {},
   "outputs": [
    {
     "name": "stdout",
     "output_type": "stream",
     "text": [
      "kim님의 이름:김철수, kim님의 나이:20\n"
     ]
    }
   ],
   "source": [
    "id=\"kim\"\n",
    "name = \"김철수\"\n",
    "age = 20\n",
    "print(\"{0}님의 이름:{1}, {0}님의 나이:{2}\".format(id,name,age))"
   ]
  },
  {
   "cell_type": "code",
   "execution_count": 23,
   "metadata": {},
   "outputs": [
    {
     "name": "stdout",
     "output_type": "stream",
     "text": [
      "15 f F 17 1111\n",
      "15 0xf 0XF 0o17 0b1111\n"
     ]
    }
   ],
   "source": [
    "num=15\n",
    "# d 10진수, x(heXa) 16진수 소문자\n",
    "# X 16진수 대문자\n",
    "# o(octal) 8진수\n",
    "# b(Binary) 2진수\n",
    "str=\"{0:d} {0:x} {0:X} {0:o} {0:b}\".format(num)\n",
    "print(str)\n",
    "# 샵을 붙이면 진법에 해당하는 접두사가 추가됨\n",
    "str=\"{0:#d} {0:#x} {0:#X} {0:#o} {0:#b}\".format(num)\n",
    "print(str)"
   ]
  },
  {
   "cell_type": "code",
   "execution_count": 32,
   "metadata": {},
   "outputs": [
    {
     "name": "stdout",
     "output_type": "stream",
     "text": [
      "1234567890\n",
      "1,234,567,890\n",
      "99.123521%\n",
      "99.12%\n"
     ]
    }
   ],
   "source": [
    "num = 1234567890\n",
    "print(num)\n",
    "#천단위 컴머 출력\n",
    "print(\"{0:,}\".format(num))\n",
    "num = 0.99123521\n",
    "print(\"{0:%}\".format(num))\n",
    "print(\"{0:.2%}\".format(num))"
   ]
  },
  {
   "cell_type": "code",
   "execution_count": null,
   "metadata": {},
   "outputs": [],
   "source": []
  },
  {
   "cell_type": "code",
   "execution_count": null,
   "metadata": {},
   "outputs": [],
   "source": []
  },
  {
   "cell_type": "code",
   "execution_count": null,
   "metadata": {},
   "outputs": [],
   "source": []
  }
 ],
 "metadata": {
  "kernelspec": {
   "display_name": "Python 3",
   "language": "python",
   "name": "python3"
  },
  "language_info": {
   "codemirror_mode": {
    "name": "ipython",
    "version": 3
   },
   "file_extension": ".py",
   "mimetype": "text/x-python",
   "name": "python",
   "nbconvert_exporter": "python",
   "pygments_lexer": "ipython3",
   "version": "3.6.4"
  }
 },
 "nbformat": 4,
 "nbformat_minor": 2
}
