{
 "cells": [
  {
   "cell_type": "code",
   "execution_count": 5,
   "metadata": {
    "scrolled": true
   },
   "outputs": [
    {
     "name": "stdout",
     "output_type": "stream",
     "text": [
      "키워드 목록: ['False', 'None', 'True', 'and', 'as', 'assert', 'break', 'class', 'continue', 'def', 'del', 'elif', 'else', 'except', 'finally', 'for', 'from', 'global', 'if', 'import', 'in', 'is', 'lambda', 'nonlocal', 'not', 'or', 'pass', 'raise', 'return', 'try', 'while', 'with', 'yield']\n",
      "키워드 갯수: 33\n"
     ]
    }
   ],
   "source": [
    "#모듈 로딩\n",
    "import keyword\n",
    "print(\"키워드 목록:\", keyword.kwlist)\n",
    "# len(리스트) 리스트의 원소 갯수\n",
    "print(\"키워드 갯수:\", len(keyword.kwlist))"
   ]
  },
  {
   "cell_type": "code",
   "execution_count": 6,
   "metadata": {},
   "outputs": [
    {
     "data": {
      "text/plain": [
       "3"
      ]
     },
     "execution_count": 6,
     "metadata": {},
     "output_type": "execute_result"
    }
   ],
   "source": [
    "1+2"
   ]
  },
  {
   "cell_type": "code",
   "execution_count": 7,
   "metadata": {},
   "outputs": [
    {
     "data": {
      "text/plain": [
       "1.25"
      ]
     },
     "execution_count": 7,
     "metadata": {},
     "output_type": "execute_result"
    }
   ],
   "source": [
    "3/2.4"
   ]
  },
  {
   "cell_type": "code",
   "execution_count": 8,
   "metadata": {},
   "outputs": [
    {
     "data": {
      "text/plain": [
       "27"
      ]
     },
     "execution_count": 8,
     "metadata": {},
     "output_type": "execute_result"
    }
   ],
   "source": [
    "3*9"
   ]
  },
  {
   "cell_type": "code",
   "execution_count": 9,
   "metadata": {},
   "outputs": [],
   "source": [
    "#한줄 주석\n",
    "'''     \n",
    "'''\n",
    "\"\"\"    \n",
    "\n",
    "여러줄 주석\n",
    "\n",
    "\n",
    "\"\"\""
   ]
  },
  {
   "cell_type": "code",
   "execution_count": 12,
   "metadata": {},
   "outputs": [
    {
     "ename": "SyntaxError",
     "evalue": "invalid syntax (<ipython-input-12-279790aa8321>, line 3)",
     "output_type": "error",
     "traceback": [
      "\u001b[1;36m  File \u001b[1;32m\"<ipython-input-12-279790aa8321>\"\u001b[1;36m, line \u001b[1;32m3\u001b[0m\n\u001b[1;33m    a++\u001b[0m\n\u001b[1;37m       ^\u001b[0m\n\u001b[1;31mSyntaxError\u001b[0m\u001b[1;31m:\u001b[0m invalid syntax\n"
     ]
    }
   ],
   "source": [
    "a=10\n",
    "a+=5\n",
    "#a++   => a += 1\n",
    "a"
   ]
  },
  {
   "cell_type": "code",
   "execution_count": 13,
   "metadata": {},
   "outputs": [
    {
     "data": {
      "text/plain": [
       "81"
      ]
     },
     "execution_count": 13,
     "metadata": {},
     "output_type": "execute_result"
    }
   ],
   "source": [
    "a=3\n",
    "b=4\n",
    "#3의 4제곱\n",
    "a**b"
   ]
  },
  {
   "cell_type": "code",
   "execution_count": 14,
   "metadata": {},
   "outputs": [
    {
     "name": "stdout",
     "output_type": "stream",
     "text": [
      "10 20\n",
      "10 10 10\n"
     ]
    }
   ],
   "source": [
    "a,b = 10,20\n",
    "print(a,b)\n",
    "i=j=k=10\n",
    "print(i,j,k)"
   ]
  },
  {
   "cell_type": "code",
   "execution_count": 16,
   "metadata": {},
   "outputs": [
    {
     "name": "stdout",
     "output_type": "stream",
     "text": [
      "10 20\n",
      "20 10\n"
     ]
    }
   ],
   "source": [
    "a,b=10,20\n",
    "print(a,b)\n",
    "#a,b의 값이 변경됨\n",
    "a,b=b,a\n",
    "print(a,b)"
   ]
  },
  {
   "cell_type": "code",
   "execution_count": 20,
   "metadata": {},
   "outputs": [
    {
     "name": "stdout",
     "output_type": "stream",
     "text": [
      "1 2\n"
     ]
    },
    {
     "ename": "NameError",
     "evalue": "name 'b' is not defined",
     "output_type": "error",
     "traceback": [
      "\u001b[1;31m---------------------------------------------------------------------------\u001b[0m",
      "\u001b[1;31mNameError\u001b[0m                                 Traceback (most recent call last)",
      "\u001b[1;32m<ipython-input-20-cf72461be092>\u001b[0m in \u001b[0;36m<module>\u001b[1;34m()\u001b[0m\n\u001b[0;32m      4\u001b[0m \u001b[1;31m#변수 삭제\u001b[0m\u001b[1;33m\u001b[0m\u001b[1;33m\u001b[0m\u001b[0m\n\u001b[0;32m      5\u001b[0m \u001b[1;32mdel\u001b[0m \u001b[0mb\u001b[0m\u001b[1;33m\u001b[0m\u001b[0m\n\u001b[1;32m----> 6\u001b[1;33m \u001b[0mprint\u001b[0m\u001b[1;33m(\u001b[0m\u001b[0ma\u001b[0m\u001b[1;33m,\u001b[0m\u001b[0mb\u001b[0m\u001b[1;33m)\u001b[0m\u001b[1;33m\u001b[0m\u001b[0m\n\u001b[0m",
      "\u001b[1;31mNameError\u001b[0m: name 'b' is not defined"
     ]
    }
   ],
   "source": [
    "a=1\n",
    "b=2\n",
    "print(a,b)\n",
    "#변수 삭제\n",
    "del b\n",
    "print(a,b)"
   ]
  },
  {
   "cell_type": "code",
   "execution_count": 23,
   "metadata": {},
   "outputs": [
    {
     "name": "stdout",
     "output_type": "stream",
     "text": [
      "1\n",
      "1.75\n",
      "1\n"
     ]
    }
   ],
   "source": [
    "print(7%3) #나머지\n",
    "print(7/4) #실수몫\n",
    "print(7//4) #정수몫"
   ]
  },
  {
   "cell_type": "code",
   "execution_count": 5,
   "metadata": {},
   "outputs": [
    {
     "name": "stdout",
     "output_type": "stream",
     "text": [
      "정수 1:9\n",
      "정수 2:81\n",
      "정수 3:4.0\n"
     ]
    }
   ],
   "source": [
    "x=9\n",
    "# {0} 첫번째 변수, {1} 두번째 변수\n",
    "print(\"정수 1:{0}\".format(x, 9))\n",
    "print(\"정수 2:{0}\".format(3**4))\n",
    "# int(실수값) 정수로 변환\n",
    "print(\"정수 3:{0}\".format((int(8.3)/int(2.7))))"
   ]
  },
  {
   "cell_type": "code",
   "execution_count": 27,
   "metadata": {},
   "outputs": [
    {
     "name": "stdout",
     "output_type": "stream",
     "text": [
      "실수1: 3.074\n",
      "실수2: 12.0\n",
      "실수3: 2.67\n",
      "실수4: 2.6667\n"
     ]
    }
   ],
   "source": [
    "print(\"실수1: {0:.3f}\".format(8.3/2.7))\n",
    "y=2.5*4.8\n",
    "print(\"실수2: {0:.1f}\".format(y))\n",
    "r=8/float(3)\n",
    "print(\"실수3: {0:.2f}\".format(r))\n",
    "print(\"실수4: {0:.4f}\".format(8.0/3))"
   ]
  },
  {
   "cell_type": "code",
   "execution_count": 31,
   "metadata": {},
   "outputs": [
    {
     "name": "stdout",
     "output_type": "stream",
     "text": [
      "<class 'float'>\n",
      "8.3\n",
      "<class 'int'>\n",
      "8\n"
     ]
    }
   ],
   "source": [
    "x=8.3\n",
    "# type(변수) 변수의 자료형\n",
    "print(type(x))\n",
    "print(x)\n",
    "#int(실수값) => 정수로 변환\n",
    "y=int(x)\n",
    "print(type(y))\n",
    "print(y)"
   ]
  },
  {
   "cell_type": "code",
   "execution_count": 33,
   "metadata": {},
   "outputs": [
    {
     "name": "stdout",
     "output_type": "stream",
     "text": [
      "<class 'str'>\n",
      "<class 'bool'>\n"
     ]
    }
   ],
   "source": [
    "print(type(\"hello\"))\n",
    "print(type(True))"
   ]
  },
  {
   "cell_type": "code",
   "execution_count": 41,
   "metadata": {},
   "outputs": [
    {
     "name": "stdout",
     "output_type": "stream",
     "text": [
      "<class 'bool'>\n",
      "False\n",
      "False\n",
      "True\n"
     ]
    }
   ],
   "source": [
    "hungry=True\n",
    "sleepy=False\n",
    "print(type(hungry)) #자료형\n",
    "print(not hungry) #논리부정\n",
    "print(hungry and sleepy) # A and B : A,B가 모두 True가 되어야 True\n",
    "print(hungry or sleepy) # A or B : 둘 중 하나만 True"
   ]
  },
  {
   "cell_type": "code",
   "execution_count": 51,
   "metadata": {},
   "outputs": [],
   "source": [
    "a=10\n",
    "b=3\n",
    "#블록 내부에서는 반드시 들여쓰기를 해야 함\n",
    "if a==1 and \\\n",
    "b==3:\n",
    "    print(\"true\")\n",
    "#else:\n",
    "#    print(\"false\")"
   ]
  },
  {
   "cell_type": "code",
   "execution_count": 56,
   "metadata": {},
   "outputs": [
    {
     "name": "stdout",
     "output_type": "stream",
     "text": [
      "Hello\n",
      "Python\n",
      "\n",
      "aaa\n",
      "bbb\n",
      "ccc\n",
      "ddd\n",
      "\n"
     ]
    }
   ],
   "source": [
    "str = \"Hello\\nPython\" # \\n 줄바꿈(개행문자)\n",
    "print(str)\n",
    "# 따옴표 3개 - 여러 줄 작성 가능\n",
    "str = \"\"\"\n",
    "aaa\n",
    "bbb\n",
    "ccc\n",
    "ddd\n",
    "\"\"\"\n",
    "print(str)"
   ]
  },
  {
   "cell_type": "code",
   "execution_count": 58,
   "metadata": {},
   "outputs": [
    {
     "name": "stdout",
     "output_type": "stream",
     "text": [
      "hello python\n"
     ]
    }
   ],
   "source": [
    "str1 = \"hello\"\n",
    "str2 = \"python\"\n",
    "# 문자열 + 문자열 => 연결\n",
    "print( str1 + \" \" + str2 )"
   ]
  },
  {
   "cell_type": "code",
   "execution_count": 64,
   "metadata": {},
   "outputs": [
    {
     "name": "stdout",
     "output_type": "stream",
     "text": [
      "이름:김철수,나이: 20\n"
     ]
    }
   ],
   "source": [
    "name=\"김철수\"\n",
    "age=20\n",
    "# 문자열 + 숫자 => 에러\n",
    "#print(\"이름:\"+name+\",나이:\"+age)\n",
    "print(\"이름:\"+name+\",나이:\" , age)"
   ]
  },
  {
   "cell_type": "code",
   "execution_count": 68,
   "metadata": {},
   "outputs": [
    {
     "name": "stdout",
     "output_type": "stream",
     "text": [
      "파이썬파이썬\n",
      "파이썬파이썬파이썬\n",
      "==================================================\n",
      "My Program\n",
      "==================================================\n"
     ]
    }
   ],
   "source": [
    "a=\"파이썬\"\n",
    "print(a*2)\n",
    "print(a*3)\n",
    "print(\"=\"*50)\n",
    "print(\"My Program\")\n",
    "print(\"=\"*50)"
   ]
  },
  {
   "cell_type": "code",
   "execution_count": 69,
   "metadata": {},
   "outputs": [
    {
     "name": "stdout",
     "output_type": "stream",
     "text": [
      "e\n",
      "r\n",
      "Life\n",
      "is too short\n",
      "Life is\n",
      "Life is too short\n"
     ]
    }
   ],
   "source": [
    "a=\"Life is too short\"\n",
    "print(a[3]) #4번째 문자\n",
    "print(a[-2]) #뒤에서 2번째\n",
    "# [start:end-1]\n",
    "print(a[0:4]) #0~3\n",
    "print(a[5:]) # 5~끝까지\n",
    "print(a[:7]) # 0~6\n",
    "print(a[:]) # 전체"
   ]
  },
  {
   "cell_type": "code",
   "execution_count": 72,
   "metadata": {},
   "outputs": [
    {
     "name": "stdout",
     "output_type": "stream",
     "text": [
      "True\n",
      "False\n"
     ]
    }
   ],
   "source": [
    "str=\"Hello world\"\n",
    "print(\"world\" in str) # 내용이 있으면 True\n",
    "print(\"world\" not in str) # 내용이 없으면 False"
   ]
  },
  {
   "cell_type": "code",
   "execution_count": 77,
   "metadata": {},
   "outputs": [
    {
     "name": "stdout",
     "output_type": "stream",
     "text": [
      "나이 : 20\n",
      "나는 사과를 좋아한다.\n",
      "김철수님의 나이는 20세입니다.\n",
      "에러율: 98%\n",
      "원주율:      3.142\n"
     ]
    }
   ],
   "source": [
    "age=20\n",
    "print(\"나이 : %s\" % age) # %s string 형식\n",
    "fruit = \"사과\"\n",
    "print(\"나는 %s를 좋아한다.\" % fruit)\n",
    "name = \"김철수\"\n",
    "print(\"%s님의 나이는 %s세입니다.\" % (name,age)) #변수 2개 이상\n",
    "rate=98\n",
    "print(\"에러율: %d%%\" % rate) # %d 정수 형식\n",
    "point=3.141592\n",
    "# %전체자리수.소수이하자리수f\n",
    "print(\"원주율: %10.3f\" % point) # %f 실수 형식"
   ]
  },
  {
   "cell_type": "code",
   "execution_count": 79,
   "metadata": {},
   "outputs": [
    {
     "name": "stdout",
     "output_type": "stream",
     "text": [
      "나이:15\n",
      "이름:김철수\n",
      "김철수님의 나이는 15세입니다.\n",
      "이름:김철수, 나이:20\n"
     ]
    }
   ],
   "source": [
    "age=15\n",
    "# 문자열.format(변수)\n",
    "result=\"나이:{0}\".format(age) # {변수인덱스} 0부터\n",
    "print(result)\n",
    "\n",
    "name=\"김철수\"\n",
    "result=\"이름:{0}\".format(name)\n",
    "print(result)\n",
    "#변수가 2개 이상일 경우\n",
    "result=\"{0}님의 나이는 {1}세입니다.\".format(name,age)\n",
    "print(result)\n",
    "# {인덱스} 대신 {변수명} 사용 가능\n",
    "result=\"이름:{name}, 나이:{age}\".format(name=\"김철수\",age=20)\n",
    "print(result)"
   ]
  },
  {
   "cell_type": "code",
   "execution_count": 83,
   "metadata": {},
   "outputs": [
    {
     "name": "stdout",
     "output_type": "stream",
     "text": [
      "hi        \n",
      "        hi\n",
      "    hi    \n",
      "====hi====\n",
      "hi;;;;;;;;\n"
     ]
    }
   ],
   "source": [
    "# < 왼쪽 정렬, > 오른쪽 정렬, ^ 가운데 정렬\n",
    "result=\"{0:<10}\".format(\"hi\") # {인덱스:정렬방향 글자수}\n",
    "print(result)\n",
    "\n",
    "result=\"{0:>10}\".format(\"hi\")\n",
    "print(result)\n",
    "\n",
    "result=\"{0:^10}\".format(\"hi\")\n",
    "print(result)\n",
    "\n",
    "result=\"{0:=^10}\".format(\"hi\") #공백 대신 = 출력\n",
    "print(result)\n",
    "\n",
    "result=\"{0:-<10}\".format(\"hi\") #공백 대신 - 출력\n",
    "print(result)"
   ]
  },
  {
   "cell_type": "code",
   "execution_count": 85,
   "metadata": {
    "scrolled": true
   },
   "outputs": [
    {
     "name": "stdout",
     "output_type": "stream",
     "text": [
      "2\n"
     ]
    }
   ],
   "source": [
    "a=\"hobby\"\n",
    "# 문자열의 내용 중에서 b가 몇 번 나오는지 계산\n",
    "print(a.count('b')) "
   ]
  },
  {
   "cell_type": "code",
   "execution_count": 89,
   "metadata": {},
   "outputs": [
    {
     "name": "stdout",
     "output_type": "stream",
     "text": [
      "7\n",
      "-1\n"
     ]
    }
   ],
   "source": [
    "a=\"Have a nice day\"\n",
    "# nice가 포함된 인덱스\n",
    "print(a.find(\"nice\"))\n",
    "# 내용이 없으면 -1 \n",
    "print(a.find(\"have\"))"
   ]
  },
  {
   "cell_type": "code",
   "execution_count": 91,
   "metadata": {},
   "outputs": [
    {
     "name": "stdout",
     "output_type": "stream",
     "text": [
      "8\n"
     ]
    },
    {
     "ename": "ValueError",
     "evalue": "substring not found",
     "output_type": "error",
     "traceback": [
      "\u001b[1;31m---------------------------------------------------------------------------\u001b[0m",
      "\u001b[1;31mValueError\u001b[0m                                Traceback (most recent call last)",
      "\u001b[1;32m<ipython-input-91-eee7a3873389>\u001b[0m in \u001b[0;36m<module>\u001b[1;34m()\u001b[0m\n\u001b[0;32m      1\u001b[0m \u001b[0ma\u001b[0m\u001b[1;33m=\u001b[0m\u001b[1;34m\"Life is too short\"\u001b[0m\u001b[1;33m\u001b[0m\u001b[0m\n\u001b[0;32m      2\u001b[0m \u001b[0mprint\u001b[0m\u001b[1;33m(\u001b[0m\u001b[0ma\u001b[0m\u001b[1;33m.\u001b[0m\u001b[0mindex\u001b[0m\u001b[1;33m(\u001b[0m\u001b[1;34m\"too\"\u001b[0m\u001b[1;33m)\u001b[0m\u001b[1;33m)\u001b[0m\u001b[1;33m\u001b[0m\u001b[0m\n\u001b[1;32m----> 3\u001b[1;33m \u001b[0mprint\u001b[0m\u001b[1;33m(\u001b[0m\u001b[0ma\u001b[0m\u001b[1;33m.\u001b[0m\u001b[0mindex\u001b[0m\u001b[1;33m(\u001b[0m\u001b[1;34m\"kind\"\u001b[0m\u001b[1;33m)\u001b[0m\u001b[1;33m)\u001b[0m\u001b[1;33m\u001b[0m\u001b[0m\n\u001b[0m",
      "\u001b[1;31mValueError\u001b[0m: substring not found"
     ]
    }
   ],
   "source": [
    "a=\"Life is too short\"\n",
    "print(a.index(\"too\"))\n",
    "#내용이 없으면 에러 발생\n",
    "print(a.index(\"kind\"))"
   ]
  },
  {
   "cell_type": "code",
   "execution_count": 97,
   "metadata": {},
   "outputs": [
    {
     "name": "stdout",
     "output_type": "stream",
     "text": [
      "a-b-c-d\n"
     ]
    }
   ],
   "source": [
    "a=\"-\"\n",
    "result=a.join(\"abcd\") #문자 사이에 , 삽입\n",
    "print(result)"
   ]
  },
  {
   "cell_type": "code",
   "execution_count": 99,
   "metadata": {},
   "outputs": [
    {
     "name": "stdout",
     "output_type": "stream",
     "text": [
      "HI\n",
      "hi\n",
      "Web program\n"
     ]
    }
   ],
   "source": [
    "a=\"hi\"\n",
    "result=a.upper() #대문자로\n",
    "print(result)\n",
    "\n",
    "a=\"HI\"\n",
    "result=a.lower() #소문자로\n",
    "print(result)\n",
    "\n",
    "a=\"web program\"\n",
    "result=a.capitalize() #문장의 첫글자를 대문자로\n",
    "print(result)"
   ]
  },
  {
   "cell_type": "code",
   "execution_count": 101,
   "metadata": {},
   "outputs": [
    {
     "name": "stdout",
     "output_type": "stream",
     "text": [
      "hi   \n",
      "   hi\n",
      "hi\n"
     ]
    }
   ],
   "source": [
    "a=\"   hi   \"\n",
    "result = a.lstrip() #왼쪽 공백 제거\n",
    "print(result)\n",
    "\n",
    "result = a.rstrip() #오른쪽 공백 제거\n",
    "print(result)\n",
    "\n",
    "result = a.strip() #양쪽 공백 제거\n",
    "print(result)"
   ]
  },
  {
   "cell_type": "code",
   "execution_count": 102,
   "metadata": {},
   "outputs": [
    {
     "name": "stdout",
     "output_type": "stream",
     "text": [
      "경력 개발자\n"
     ]
    }
   ],
   "source": [
    "a = \"신입 개발자\"\n",
    "# 문자열.replace(A,B)  A를 B로 변경\n",
    "result=a.replace(\"신입\",\"경력\") \n",
    "print(result)"
   ]
  },
  {
   "cell_type": "code",
   "execution_count": 104,
   "metadata": {},
   "outputs": [
    {
     "name": "stdout",
     "output_type": "stream",
     "text": [
      "<class 'list'>\n",
      "['신입', '개발자']\n",
      "['a', 'b', 'c', 'd']\n"
     ]
    }
   ],
   "source": [
    "a=\"신입 개발자\"\n",
    "# 구분자가 없으면 공백을 기준으로 나눔\n",
    "result=a.split() # 리스트를 리턴함\n",
    "print(type(result))\n",
    "print(result)\n",
    "\n",
    "a=\"a,b,c,d\"\n",
    "result=a.split(\",\") # 지정한 구분자로 나눔\n",
    "print(result)"
   ]
  },
  {
   "cell_type": "code",
   "execution_count": null,
   "metadata": {},
   "outputs": [],
   "source": []
  },
  {
   "cell_type": "code",
   "execution_count": null,
   "metadata": {},
   "outputs": [],
   "source": []
  },
  {
   "cell_type": "code",
   "execution_count": null,
   "metadata": {},
   "outputs": [],
   "source": []
  }
 ],
 "metadata": {
  "kernelspec": {
   "display_name": "Python 3",
   "language": "python",
   "name": "python3"
  },
  "language_info": {
   "codemirror_mode": {
    "name": "ipython",
    "version": 3
   },
   "file_extension": ".py",
   "mimetype": "text/x-python",
   "name": "python",
   "nbconvert_exporter": "python",
   "pygments_lexer": "ipython3",
   "version": "3.7.3"
  }
 },
 "nbformat": 4,
 "nbformat_minor": 2
}
