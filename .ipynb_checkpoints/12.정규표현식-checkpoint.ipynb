{
 "cells": [
  {
   "cell_type": "code",
   "execution_count": 3,
   "metadata": {},
   "outputs": [
    {
     "name": "stdout",
     "output_type": "stream",
     "text": [
      "[]\n",
      "['kim']\n",
      "['m', 'm']\n"
     ]
    }
   ],
   "source": [
    "# 정규표현식(Regular Expression) 모듈 로딩\n",
    "import re\n",
    "\n",
    "str=\"My id number is kim0902\"\n",
    "# findall(\"패턴\", 문자열) 문자열에서 패턴에 맞는 내용을 리턴\n",
    "a=re.findall(\"a\", str)\n",
    "print(a)\n",
    "a=re.findall(\"kim\", str)\n",
    "print(a)\n",
    "a=re.findall(\"m\", str)\n",
    "print(a)"
   ]
  },
  {
   "cell_type": "code",
   "execution_count": 4,
   "metadata": {},
   "outputs": [
    {
     "name": "stdout",
     "output_type": "stream",
     "text": [
      "['y', 'i', 'd', 'u', 'm', 'b', 'e', 'r', 'i', 's']\n",
      "['y', 'id', 'umber', 'is']\n",
      "['M', 'N', 'K', 'I', 'M']\n",
      "['M', 'N', 'KIM']\n"
     ]
    }
   ],
   "source": [
    "str = \"My id Number is KIM0502\"\n",
    "# 모든 소문자를 찾아서 리스트로 리턴\n",
    "a=re.findall(\"[a-z]\", str)\n",
    "print(a)\n",
    "# 단어 단위로 찾음\n",
    "b=re.findall(\"[a-z]+\", str)\n",
    "print(b)\n",
    "# 대문자를 글자 단위로 찾음\n",
    "c=re.findall(\"[A-Z]\", str) \n",
    "print(c)\n",
    "# 대문자를 단어 단위로 찾음\n",
    "d=re.findall(\"[A-Z]+\", str)\n",
    "print(d)"
   ]
  },
  {
   "cell_type": "code",
   "execution_count": 8,
   "metadata": {},
   "outputs": [
    {
     "name": "stdout",
     "output_type": "stream",
     "text": [
      "['M', 'y', 'i', 'd', 'n', 'u', 'm', 'b', 'e', 'r', 'i', 's', 'k', 'i', 'm', 'w', '0', '5', '0', '2']\n",
      "['My', 'id', 'number', 'is', 'kimw', '0502']\n",
      "[' ', ' ', ' ', ' ', '_', '$', '%']\n",
      "['My', 'id', 'number', 'is', 'kimw_0502']\n",
      "[' ', ' ', ' ', ' ', '$%']\n"
     ]
    }
   ],
   "source": [
    "str=\"My id number is kimw_0502$%\"\n",
    "a=re.findall(\"[a-zA-Z0-9]\", str) #영문자,숫자\n",
    "print(a)\n",
    "# 영문자,숫자(단어 단위)\n",
    "b=re.findall(\"[a-zA-Z0-9]+\", str)\n",
    "print(b)\n",
    "# ^ => not, 영문자,숫자가 아닌 경우\n",
    "c=re.findall(\"[^a-zA-Z0-9]\", str)\n",
    "print(c)\n",
    "# \\w(소문자w)  영문자,숫자,_\n",
    "d=re.findall(\"[\\w]+\", str)\n",
    "print(d)\n",
    "# \\W(대문자W)  영문자,숫자,_가 아닌 경우 (공백, 특수문자)\n",
    "e=re.findall(\"[\\W]+\", str)\n",
    "print(e)"
   ]
  },
  {
   "cell_type": "code",
   "execution_count": 16,
   "metadata": {},
   "outputs": [
    {
     "name": "stdout",
     "output_type": "stream",
     "text": [
      "12abc 의 길이가 적당하지 않습니다.\n",
      "123abc ==> 대문자와 소문자가 모두 필요합니다.\n",
      "123abc% ==> 숫자와 영문자로만 구성되어야 합니다.\n",
      "123Abc ==> 올바른 비밀 번호입니다.\n"
     ]
    }
   ],
   "source": [
    "import re\n",
    "def pwd_check(pwd):\n",
    "    if len(pwd) < 6 or len(pwd) > 12:\n",
    "        print(pwd, '의 길이가 적당하지 않습니다.')\n",
    "        return False\n",
    "    #print(re.findall('[a-zA-Z0-9]+', pwd))\n",
    "    if re.findall('[a-zA-Z0-9]+', pwd)[0] != pwd:\n",
    "        print(pwd, '==> 숫자와 영문자로만 구성되어야 합니다.')\n",
    "        return False\n",
    "    if len(re.findall('[a-z]', pwd))==0 or\\\n",
    "                len(re.findall('[A-Z]', pwd))==0:\n",
    "        print(pwd, '==> 대문자와 소문자가 모두 필요합니다.')\n",
    "        return False\n",
    "    print(pwd, '==> 올바른 비밀 번호입니다.')\n",
    "    return\n",
    "\n",
    "pwd_check('12abc') # False, 길이 오류\n",
    "pwd_check('123abc') # False, 대문자 부재\n",
    "pwd_check('123abc%') # False, 특수문자 포함\n",
    "pwd_check('123Abc') # True"
   ]
  },
  {
   "cell_type": "code",
   "execution_count": 19,
   "metadata": {},
   "outputs": [
    {
     "name": "stdout",
     "output_type": "stream",
     "text": [
      "kim@gmail : 잘못된 형식의 이메일 주소입니다.\n",
      "kim_gmail.com : 잘못된 형식의 이메일 주소입니다.\n",
      "kim : 잘못된 형식의 이메일 주소입니다.\n",
      "kim@gmail.com : 올바른 이메일 주소입니다.\n"
     ]
    }
   ],
   "source": [
    "import re\n",
    "def email_check(email):\n",
    "    # ^[] 시작, [^] not,  $ 끝\n",
    "    # {2,} 2글자 이상\n",
    "    exp=re.findall(\"^[a-z0-9]{2,}@[a-z0-9]{2,}\\.[a-z]{2,}$\",email)    \n",
    "    if len(exp) == 0:\n",
    "        print(email, \": 잘못된 형식의 이메일 주소입니다.\")\n",
    "        return\n",
    "    print(email,\": 올바른 이메일 주소입니다.\")\n",
    "    return\n",
    "\n",
    "email_check(\"kim@gmail\")\n",
    "email_check(\"kim_gmail.com\")\n",
    "email_check(\"kim\")\n",
    "email_check(\"kim@gmail.com\")"
   ]
  },
  {
   "cell_type": "code",
   "execution_count": null,
   "metadata": {},
   "outputs": [],
   "source": []
  },
  {
   "cell_type": "code",
   "execution_count": null,
   "metadata": {},
   "outputs": [],
   "source": []
  },
  {
   "cell_type": "code",
   "execution_count": null,
   "metadata": {},
   "outputs": [],
   "source": []
  }
 ],
 "metadata": {
  "kernelspec": {
   "display_name": "Python 3",
   "language": "python",
   "name": "python3"
  },
  "language_info": {
   "codemirror_mode": {
    "name": "ipython",
    "version": 3
   },
   "file_extension": ".py",
   "mimetype": "text/x-python",
   "name": "python",
   "nbconvert_exporter": "python",
   "pygments_lexer": "ipython3",
   "version": "3.7.3"
  }
 },
 "nbformat": 4,
 "nbformat_minor": 2
}
