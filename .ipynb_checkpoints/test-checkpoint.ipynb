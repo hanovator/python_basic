{
 "cells": [
  {
   "cell_type": "code",
   "execution_count": 18,
   "metadata": {},
   "outputs": [],
   "source": [
    "class Person:\n",
    "    \n",
    "    def __init__(self, name=\"han\", age=20, height=190):\n",
    "        self.name=name\n",
    "        self.age=age\n",
    "        self.height=height\n",
    "    \n",
    "    def put(self):\n",
    "        print(\"이름:\"+self.name)\n",
    "        print(\"나이:\"+str(self.age))\n",
    "        print(\"키:\"+str(self.height))                    "
   ]
  },
  {
   "cell_type": "code",
   "execution_count": 17,
   "metadata": {},
   "outputs": [],
   "source": [
    "class PersonInfo(Person):\n",
    "    def put(self):\n",
    "       print(\"이름:\"+self.name)\n",
    "       print(\"나이:\"+str(self.age))\n",
    "       print(\"키:\"+str(self.height))   \n",
    "       print(\"체중:\"+str(self.weight))\n",
    "       print(\"시력(좌):\"+str(self.l_eye))\n",
    "       print(\"시력(우):\"+str(self.r_eye))"
   ]
  },
  {
   "cell_type": "code",
   "execution_count": 21,
   "metadata": {},
   "outputs": [
    {
     "name": "stdout",
     "output_type": "stream",
     "text": [
      "체중:72\n",
      "시력(좌):1.5\n",
      "시력(우):1.9\n"
     ]
    }
   ],
   "source": [
    "p2 = PersonInfo(\"한\",15,190)\n",
    "p2.weight=72\n",
    "p2.l_eye=1.5\n",
    "p2.r_eye=1.9\n",
    "p2.put()"
   ]
  }
 ],
 "metadata": {
  "kernelspec": {
   "display_name": "Python 3",
   "language": "python",
   "name": "python3"
  },
  "language_info": {
   "codemirror_mode": {
    "name": "ipython",
    "version": 3
   },
   "file_extension": ".py",
   "mimetype": "text/x-python",
   "name": "python",
   "nbconvert_exporter": "python",
   "pygments_lexer": "ipython3",
   "version": "3.7.3"
  }
 },
 "nbformat": 4,
 "nbformat_minor": 2
}
