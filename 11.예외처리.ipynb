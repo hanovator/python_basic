{
 "cells": [
  {
   "cell_type": "code",
   "execution_count": 1,
   "metadata": {},
   "outputs": [
    {
     "ename": "ZeroDivisionError",
     "evalue": "division by zero",
     "output_type": "error",
     "traceback": [
      "\u001b[1;31m---------------------------------------------------------------------------\u001b[0m",
      "\u001b[1;31mZeroDivisionError\u001b[0m                         Traceback (most recent call last)",
      "\u001b[1;32m<ipython-input-1-221068dc2815>\u001b[0m in \u001b[0;36m<module>\u001b[1;34m()\u001b[0m\n\u001b[1;32m----> 1\u001b[1;33m \u001b[1;36m4\u001b[0m\u001b[1;33m/\u001b[0m\u001b[1;36m0\u001b[0m\u001b[1;33m\u001b[0m\u001b[0m\n\u001b[0m",
      "\u001b[1;31mZeroDivisionError\u001b[0m: division by zero"
     ]
    }
   ],
   "source": [
    "4/0"
   ]
  },
  {
   "cell_type": "code",
   "execution_count": 2,
   "metadata": {},
   "outputs": [
    {
     "name": "stdout",
     "output_type": "stream",
     "text": [
      "division by zero\n"
     ]
    }
   ],
   "source": [
    "try:\n",
    "    4/0 #예외가 발생할 가능성이 있는 코드\n",
    "except ZeroDivisionError as e: #예외가 발생했을 때의 코드\n",
    "    print(e)"
   ]
  },
  {
   "cell_type": "code",
   "execution_count": 4,
   "metadata": {},
   "outputs": [
    {
     "name": "stdout",
     "output_type": "stream",
     "text": [
      "종료하려면 q를 입력하세요\n",
      "\n",
      "분자:5\n",
      "분모:5\n",
      "1.0\n",
      "\n",
      "분자:q\n",
      "프로그램을 종료합니다.\n"
     ]
    }
   ],
   "source": [
    "print(\"종료하려면 q를 입력하세요\")\n",
    "while True: #무한루프\n",
    "    num1 = input(\"\\n분자:\") #입력함수, 문자열로 입력받음\n",
    "    if num1 == \"q\":\n",
    "        break # while 문을 벗어남\n",
    "    num2 = input(\"분모:\")\n",
    "    try:\n",
    "        result=int(num1) / int(num2) # 스트링을 숫자로\n",
    "    except ZeroDivisionError: #예외가 발생할 때의 코드\n",
    "        print(\"분모에 0이 올 수 없습니다.\")\n",
    "    else: #예외가 발생하지 않을 경우의 코드\n",
    "        print(result)\n",
    "print(\"프로그램을 종료합니다.\")        "
   ]
  },
  {
   "cell_type": "code",
   "execution_count": 8,
   "metadata": {},
   "outputs": [
    {
     "name": "stdout",
     "output_type": "stream",
     "text": [
      "start\n",
      "end\n"
     ]
    },
    {
     "name": "stderr",
     "output_type": "stream",
     "text": [
      "Traceback (most recent call last):\n",
      "  File \"<ipython-input-8-57a0bd24d2fe>\", line 6, in exception_test\n",
      "    print(2+\"2\") # 자료형이 다르므로 연산 에러\n",
      "TypeError: unsupported operand type(s) for +: 'int' and 'str'\n"
     ]
    }
   ],
   "source": [
    "#traceback 모듈 로딩\n",
    "import traceback\n",
    "def exception_test(): #함수 정의\n",
    "    print(\"start\")\n",
    "    try: \n",
    "        print(2+\"2\") # 자료형이 다르므로 연산 에러\n",
    "    except TypeError as e:\n",
    "        #print(\"TypeError:{0}\".format(e)) #예외 메시지\n",
    "        traceback.print_exc() #Stack Trace 메시지 출력\n",
    "    print(\"end\")\n",
    "\n",
    "exception_test()    "
   ]
  },
  {
   "cell_type": "code",
   "execution_count": 3,
   "metadata": {},
   "outputs": [
    {
     "name": "stdout",
     "output_type": "stream",
     "text": [
      "aaaa\n",
      "bbbb\n",
      "cccc\n",
      "dddd\n",
      "eeee\n",
      "ffff"
     ]
    }
   ],
   "source": [
    "try: #예외가 발생할 가능성이 있는 코드\n",
    "    f=open(\"d:/work/python/temp/test.txt\",\"r\")\n",
    "except FileNotFoundError as e: #예외가 발생하면 처리할 코드\n",
    "    print(e)\n",
    "else: #예외가 발생하지 않을 경우 실행되는 코드\n",
    "    while True:\n",
    "        line=f.readline() #한 라인을 읽음\n",
    "        if not line: break #더이상 내용이 없으면 while 문 종료\n",
    "        print(line, end=\"\") #출력, 줄바꿈 없음\n",
    "    f.close() #파일 닫기\n",
    "    "
   ]
  },
  {
   "cell_type": "code",
   "execution_count": 11,
   "metadata": {},
   "outputs": [
    {
     "name": "stdout",
     "output_type": "stream",
     "text": [
      "파일이름:d:/work/python/source/alice.txt,단어갯수:29461\n"
     ]
    }
   ],
   "source": [
    "filename=\"d:/work/python/source/alice.txt\"\n",
    "try: #예외가 발생할 가능성이 있는 코드\n",
    "    with open(filename, encoding=\"utf-8\") as file:\n",
    "        contents=file.read() #파일 전체를 읽어서 스트링으로 리턴\n",
    "except FileNotFoundError as e: #예외가 발생했을 때 실행할 코드\n",
    "    print(e)\n",
    "    msg=\"파일을 찾을 수 없습니다.\"\n",
    "    print(msg)\n",
    "else: #예외가 발생하지 않을 때 실행할 코드\n",
    "    words=contents.split() #스페이스를 기준으로 나눔\n",
    "    #print(words)\n",
    "    num=len(words) #리스트의 사이즈\n",
    "    print(\"파일이름:\"+filename+\",단어갯수:\"+str(num))"
   ]
  },
  {
   "cell_type": "code",
   "execution_count": 13,
   "metadata": {},
   "outputs": [
    {
     "name": "stdout",
     "output_type": "stream",
     "text": [
      "잘못된 인덱스입니다.\n"
     ]
    }
   ],
   "source": [
    "#다중 예외처리\n",
    "try:\n",
    "    a=[1,2]\n",
    "    4/0\n",
    "    print(a[2])\n",
    "except ZeroDivisionError:\n",
    "    print(\"0으로 나눌 수 없습니다.\")\n",
    "except IndexError:\n",
    "    print(\"잘못된 인덱스입니다.\")"
   ]
  },
  {
   "cell_type": "code",
   "execution_count": 21,
   "metadata": {},
   "outputs": [
    {
     "name": "stdout",
     "output_type": "stream",
     "text": [
      "파일명:alice.txt,단어수:29461\n",
      "파일명:moby_dick.txt,단어수:215136\n",
      "파일명:little_women.txt,단어수:189079\n"
     ]
    }
   ],
   "source": [
    "#함수 선언\n",
    "def count_words(filename): \n",
    "    try:\n",
    "        with open(\"d:/work/python/source/\"+\\\n",
    "                  filename,encoding=\"utf-8\") as f_obj:\n",
    "            contents=f_obj.read() #파일 내용 전체를 변수에 저장\n",
    "    except FileNotFoundError:\n",
    "        #pass #아무 일도 하지 않는 코드\n",
    "        print(filename+\" 파일을 찾을 수 없습니다.\")\n",
    "    else:\n",
    "        words=contents.split() #스페이스를 기준으로 나눔\n",
    "        num_words=len(words) #리스트의 요소 갯수\n",
    "        print(\"파일명:\"+filename+\",단어수:\"+str(num_words))\n",
    "\n",
    "filenames=[\"alice.txt\",\"moby_dick.txt\", \"little_women.txt\"]        \n",
    "for filename in filenames:\n",
    "    count_words(filename)"
   ]
  },
  {
   "cell_type": "code",
   "execution_count": null,
   "metadata": {},
   "outputs": [],
   "source": []
  },
  {
   "cell_type": "code",
   "execution_count": null,
   "metadata": {},
   "outputs": [],
   "source": []
  },
  {
   "cell_type": "code",
   "execution_count": null,
   "metadata": {},
   "outputs": [],
   "source": []
  }
 ],
 "metadata": {
  "kernelspec": {
   "display_name": "Python 3",
   "language": "python",
   "name": "python3"
  },
  "language_info": {
   "codemirror_mode": {
    "name": "ipython",
    "version": 3
   },
   "file_extension": ".py",
   "mimetype": "text/x-python",
   "name": "python",
   "nbconvert_exporter": "python",
   "pygments_lexer": "ipython3",
   "version": "3.6.4"
  }
 },
 "nbformat": 4,
 "nbformat_minor": 2
}
